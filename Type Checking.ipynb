{
 "cells": [
  {
   "cell_type": "markdown",
   "metadata": {},
   "source": [
    "# Use Type Checking"
   ]
  },
  {
   "cell_type": "markdown",
   "metadata": {},
   "source": [
    "- What if you pass different data type while passing data to a specific component\n",
    "    - You will have to manually find the bug\n",
    "    - Enable Type checking\n",
    "- Install prop-types:\n",
    "    - `npm i prop-types@15.6.2`\n",
    "- Import module from the package:\n",
    "    - `import PropTypes from 'prop-types`\n",
    "- Specify the properties at the end after the component:\n",
    "```\n",
    "Comp_name.proptypes = {\n",
    "    prop_member1 : Proptypes.number.isRequired,\n",
    "    prop_member2 : Proptypes.func.isRequired,\n",
    "}\n",
    "```\n",
    "\n",
    "- Now failing to meet the specified type will throw warning in the console:\n",
    "<center><img src=\"images/071.jpg\"  style=\"width: 400px, height: 300px;\"/></center>"
   ]
  },
  {
   "cell_type": "markdown",
   "metadata": {},
   "source": [
    "# Use type checking with default overriding ability"
   ]
  },
  {
   "cell_type": "markdown",
   "metadata": {},
   "source": [
    "- We should use default props\n",
    "- Because most of the time the props should be same\n",
    "- So we do not have to always pass the attribute names when using the component \n",
    "- However, should there be any change for other component, we can have the power to override the type for a props\n",
    "- Specify the properties at the end after the `child` component:\n",
    "```\n",
    "Comp_name.defaultProps = {\n",
    "    prop_member1 : \"val1\",\n",
    "    prop_member2 : \"val2\"\n",
    "}\n",
    "```\n",
    "- in `mother` component:\n",
    "```\n",
    "....\n",
    "return (\n",
    "    <div>\n",
    "        <Comp_name \n",
    "            -- prop_member1 = \"val1\" .........No longer required \n",
    "            -- prop_member2 = \"val2\" .........No longer required\n",
    "        >\n",
    "        </Comp_name >\n",
    "    </div>\n",
    ")\n",
    "\n",
    "\n",
    "```"
   ]
  }
 ],
 "metadata": {
  "kernelspec": {
   "display_name": "Python 3.8.11 ('env_py')",
   "language": "python",
   "name": "python3"
  },
  "language_info": {
   "name": "python",
   "version": "3.8.11"
  },
  "orig_nbformat": 4,
  "vscode": {
   "interpreter": {
    "hash": "1e949e87132dd83f1a7623eb88007e3532b03b66b77111be347aa4a383049722"
   }
  }
 },
 "nbformat": 4,
 "nbformat_minor": 2
}
