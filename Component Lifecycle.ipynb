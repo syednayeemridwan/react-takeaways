{
 "cells": [
  {
   "cell_type": "markdown",
   "metadata": {},
   "source": [
    "# Life-Cycle of a component"
   ]
  },
  {
   "cell_type": "markdown",
   "metadata": {},
   "source": [
    "- Only the hooks that are majorly used are listed here:\n",
    "1. Mount\n",
    "    - A component instance is created\n",
    "    - The instance is inserted into the DOM\n",
    "    - 3 Hooks in this phase:\n",
    "        1. `constructor`\n",
    "        2. `render`\n",
    "        3. `componentDidMount`\n",
    "2. Update\n",
    "    - When `state` or `props` of a component gets changed\n",
    "    - 2 Hooks in this phase:\n",
    "        1. `render`\n",
    "        2. `componentDidUpdate`\n",
    "3. Unmount\n",
    "    - When the component is removed from the DOM\n",
    "    - 1 Hook in this phase:\n",
    "        1. `componentWillUnmount`\n"
   ]
  },
  {
   "cell_type": "markdown",
   "metadata": {},
   "source": [
    "## 1. Mount"
   ]
  },
  {
   "cell_type": "markdown",
   "metadata": {},
   "source": [
    "### `constructor`"
   ]
  },
  {
   "cell_type": "markdown",
   "metadata": {},
   "source": [
    "- Called only once when the instance of a class is created\n",
    "- Normally properties are initialized.\n",
    "- Sometimes `state` is initialized from `props` that are received from outside with `this.state`\n",
    "- We cannot use `this.setState` here: Because this method can only be called when component is rendered and placed in DOM\n",
    "- In order to get access to `props` inside `constructor`, you must pass `props` as argument\n",
    "- skeleton:\n",
    "\n",
    "    ```\n",
    "    constructor(props){\n",
    "        super(props);\n",
    "        this.state = this.props.some_member;\n",
    "        console.log('constructor called');\n",
    "    }\n",
    "    ```"
   ]
  },
  {
   "cell_type": "markdown",
   "metadata": {},
   "source": [
    "### `render`"
   ]
  },
  {
   "cell_type": "markdown",
   "metadata": {},
   "source": [
    "- Called after component is initialized and created\n",
    "- Component is rendered\n",
    "    - A React element is created that represents a virtual DOM\n",
    "    - This virtual DOM is then set to render in browser DOM\n",
    "- All children of this component are also rendered recursively.\n",
    "- skeleton:\n",
    "\n",
    "    ```\n",
    "    render(){\n",
    "        console.log('render called');\n",
    "        return ( ... );\n",
    "    }\n",
    "    ```\n"
   ]
  },
  {
   "cell_type": "markdown",
   "metadata": {},
   "source": [
    "### `componentDidMount`\n"
   ]
  },
  {
   "cell_type": "markdown",
   "metadata": {},
   "source": [
    "- Called after component is rendered into the DOM\n",
    "- Perfect place to make AJAX calls to get data from the server\n",
    "- After the AJAX call, we call the `setState` with new data\n",
    "- skeleton:\n",
    "\n",
    "    ```\n",
    "    componentDidMount(props){\n",
    "        // Ajax Call\n",
    "        this.setState({ old_member : new_member});\n",
    "        console.log('componentDidMount called');\n",
    "    }\n",
    "    ```\n"
   ]
  },
  {
   "cell_type": "markdown",
   "metadata": {},
   "source": [
    "## 2. Update\n"
   ]
  },
  {
   "cell_type": "markdown",
   "metadata": {},
   "source": [
    "### `render`"
   ]
  },
  {
   "cell_type": "markdown",
   "metadata": {},
   "source": [
    "- Called after anything like `this.setState` is executed\n",
    "- Component is re-rendered\n",
    "    - A React element was previously created that represented a virtual DOM\n",
    "    - This virtual DOM was then set to render in browser DOM\n",
    "    - When anything is updated, we get a new virtual DOM\n",
    "    - React looks at the new virtual DOM, and compares with the old virtual DOM\n",
    "        - React detects what changed in the new virtual DOM\n",
    "        - React updates only the changed portion in the browser DOM\n",
    "- All children of this component are also rendered recursively.\n",
    "- skeleton:\n",
    "\n",
    "    ```\n",
    "    render(){\n",
    "        console.log('render called ');\n",
    "        return ( ... );\n",
    "    }\n",
    "    ```\n"
   ]
  },
  {
   "cell_type": "markdown",
   "metadata": {},
   "source": [
    "### `componentDidUpdate`\n"
   ]
  },
  {
   "cell_type": "markdown",
   "metadata": {},
   "source": [
    "- This method is called after a component is updated\n",
    "- if there is any change of new_state from old_state, we can request for new data from server\n",
    "- skeleton:\n",
    "\n",
    "    ```\n",
    "    componentDidUpdate(prevProps, prevState){\n",
    "        console.log('prevProps ',prevProps);\n",
    "        console.log('prevState ',prevState);\n",
    "        if (prevProps.some_member !== this.props.some_member){\n",
    "            // Some AJAX Call to get data from server\n",
    "        }\n",
    "    }\n",
    "    ```"
   ]
  },
  {
   "cell_type": "markdown",
   "metadata": {},
   "source": [
    "## 3. Unmount\n"
   ]
  },
  {
   "cell_type": "markdown",
   "metadata": {},
   "source": [
    "### `componentWillUnmount`"
   ]
  },
  {
   "cell_type": "markdown",
   "metadata": {},
   "source": [
    "- This method is called just before a component is removed from the DOM\n",
    "- A good place to clean up like resetting values etc. \n",
    "- A good place to prevent memory leaks\n",
    "- skeleton:\n",
    "\n",
    "    ```\n",
    "    componentWillUnmount(){\n",
    "        console.log('Unmount called');\n",
    "    }\n",
    "    ```"
   ]
  }
 ],
 "metadata": {
  "kernelspec": {
   "display_name": "Python 3.8.11 ('env_py')",
   "language": "python",
   "name": "python3"
  },
  "language_info": {
   "name": "python",
   "version": "3.8.11"
  },
  "orig_nbformat": 4,
  "vscode": {
   "interpreter": {
    "hash": "1e949e87132dd83f1a7623eb88007e3532b03b66b77111be347aa4a383049722"
   }
  }
 },
 "nbformat": 4,
 "nbformat_minor": 2
}
