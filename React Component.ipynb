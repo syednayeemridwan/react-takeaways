{
 "cells": [
  {
   "cell_type": "markdown",
   "metadata": {},
   "source": [
    "# Creating New Project"
   ]
  },
  {
   "cell_type": "markdown",
   "metadata": {},
   "source": [
    "- run command : `create-react-app app_name`\n",
    "- go to the app: `cd app_name`\n",
    "- start the app: `npm start`"
   ]
  },
  {
   "cell_type": "markdown",
   "metadata": {},
   "source": [
    "# Install and import Bootstrap"
   ]
  },
  {
   "cell_type": "markdown",
   "metadata": {},
   "source": [
    "- run command : `npm i bootstrap@4.1.1`\n",
    "- import in `index.js` : `import 'bootstrap/dist/css/bootstrap.css'`\n"
   ]
  },
  {
   "cell_type": "markdown",
   "metadata": {},
   "source": [
    "# Create components"
   ]
  },
  {
   "cell_type": "markdown",
   "metadata": {},
   "source": [
    "- Create a folder called `components` inside `src` folder\n",
    "- create component file inside `components` folder : `componentName.jsx`\n",
    "- `render()` can return only 1 element. If there are multiple elements, \n",
    "    1. wrap them with a `<div> ... </div>`\n",
    "    2. wrap them with a `<React.Fragment> ... </React.Fragment>`\n",
    "- Inside  `componentName.jsx`:\n",
    "    ```\n",
    "    import React, { Component } from 'react';\n",
    "    \n",
    "    class Component_Name extends Component{\n",
    "        state = {};\n",
    "        render (){\n",
    "            return (<h1> Hello World </h1>);\n",
    "        }\n",
    "    }\n",
    "    \n",
    "    export default Component_Name;\n",
    "    ```\n",
    "\n",
    "- Go to (Use shortcut for \"go to file\" in VS-Code) `index.js`:\n",
    "    ```\n",
    "    import Component_Name from './components/componentName'\n",
    "    \n",
    "    ReactDOM.render( <Component_Name /> , document.getElementById(\"root\"));\n",
    "    ```"
   ]
  },
  {
   "cell_type": "markdown",
   "metadata": {},
   "source": [
    "# Dynamically display data from State"
   ]
  },
  {
   "cell_type": "markdown",
   "metadata": {},
   "source": [
    "- Includes any data that the component needs\n",
    "- Dynamically display value from state to render:\n",
    "```\n",
    "class Component_Name extends Component{\n",
    "        state = {\n",
    "            count : 1\n",
    "        };\n",
    "        render (){\n",
    "            return (\n",
    "                <div> {this.some_method()} </div>\n",
    "                );\n",
    "        }\n",
    "        some_method(){\n",
    "            const {count} = this.state;  /* destructuring to capture value */\n",
    "            return count===0 ? <h1>Zero</h1> : count;\n",
    "        }\n",
    "    }\n",
    "\n",
    "```\n"
   ]
  },
  {
   "cell_type": "markdown",
   "metadata": {},
   "source": [
    "# Setting Custom CSS properties inside `render`"
   ]
  },
  {
   "cell_type": "markdown",
   "metadata": {},
   "source": [
    "```\n",
    "class Component_Name extends Component{\n",
    "\n",
    "        custom_styles = { fontSize : 10}\n",
    "\n",
    "        render (){\n",
    "            return (\n",
    "                <div> \n",
    "                    <span style = {this.custom_styles}> Applying custom style </span>\n",
    "                    <span style = {{ fontSize : 30 }}> Applying inline style </span>\n",
    "                    <span className = \"some bootstrap class\"> Applying bootstrap style </span>\n",
    "                </div>\n",
    "                );\n",
    "        }\n",
    "    }\n",
    "\n",
    "```"
   ]
  },
  {
   "cell_type": "markdown",
   "metadata": {},
   "source": [
    "# Rendering class dynamically"
   ]
  },
  {
   "cell_type": "markdown",
   "metadata": {},
   "source": [
    "```\n",
    "class Component_Name extends Component{\n",
    "        \n",
    "        state = {\n",
    "                    count : 1\n",
    "                };\n",
    "\n",
    "        render (){\n",
    "\n",
    "            let bootstrap_style = \"badge-\";\n",
    "            bootstrap_style += this.state.count === 0 ? \"warning\" : \"primary\";\n",
    "\n",
    "\n",
    "            return (\n",
    "                <div> \n",
    "                    <span className = {bootstrap_style} > Applying dynamic style </span>\n",
    "                </div>\n",
    "                );\n",
    "        }\n",
    "    }\n",
    "\n",
    "```"
   ]
  },
  {
   "cell_type": "markdown",
   "metadata": {},
   "source": [
    "# Cleaning `render` method"
   ]
  },
  {
   "cell_type": "markdown",
   "metadata": {},
   "source": [
    "- Keep the `render` method clean by refactoring extra code\n",
    "- Don't make the `render` method bloated\n",
    "- put everything into a `method` inside the component and call the `method` inside `render`"
   ]
  },
  {
   "cell_type": "markdown",
   "metadata": {},
   "source": [
    "# Looping inside `render` method"
   ]
  },
  {
   "cell_type": "markdown",
   "metadata": {},
   "source": [
    "- There is no way to do direct `for` loop in `render` method\n",
    "- Use `map` method\n",
    "- use `key` with unique attribute when mapping so that react can keep track of the changes\n",
    "- Whenever you want to use `variable` inside `tags`, use `{}`\n",
    "- example:\n",
    "\n",
    "```\n",
    "render (){\n",
    "    return (\n",
    "        <div> \n",
    "            <ul>\n",
    "                {this.state.some_array.map( elem => <li key={elem}>  {elem} </li> )}\n",
    "            </ul>\n",
    "        </div>\n",
    "        );\n",
    "    }\n",
    "```\n"
   ]
  },
  {
   "cell_type": "markdown",
   "metadata": {},
   "source": [
    "# Conditional Rendering"
   ]
  },
  {
   "cell_type": "markdown",
   "metadata": {},
   "source": [
    "### Way 01"
   ]
  },
  {
   "cell_type": "markdown",
   "metadata": {},
   "source": [
    "- There is no way to do direct `if-else` in `render` method\n",
    "- way 01 : Create a `method` in component class outside `render` method and then call that `method` inside `render`\n",
    "\n",
    "\n",
    "```\n",
    "some_method_for_if_else(){\n",
    "    ...if_else...\n",
    "}\n",
    "render (){\n",
    "    return (\n",
    "        <div> \n",
    "            {this.some_method_for_if_else}\n",
    "        </div>\n",
    "        );\n",
    "    }\n",
    "```"
   ]
  },
  {
   "cell_type": "markdown",
   "metadata": {},
   "source": [
    "### Way 02"
   ]
  },
  {
   "cell_type": "markdown",
   "metadata": {},
   "source": [
    "- way 02 : `return` something like : \n",
    "    - `<div> {this.state.some_var && \"This text will be displayed if true\"} </div>`\n",
    "\n",
    "\n",
    "```\n",
    "render (){\n",
    "    return (\n",
    "        <div> \n",
    "            {this.state.some_var && \"This text will be displayed if true\"} \n",
    "        </div>\n",
    "        );\n",
    "    }\n",
    "```"
   ]
  }
 ],
 "metadata": {
  "kernelspec": {
   "display_name": "Python 3.8.11 ('env_py')",
   "language": "python",
   "name": "python3"
  },
  "language_info": {
   "name": "python",
   "version": "3.8.11"
  },
  "orig_nbformat": 4,
  "vscode": {
   "interpreter": {
    "hash": "1e949e87132dd83f1a7623eb88007e3532b03b66b77111be347aa4a383049722"
   }
  }
 },
 "nbformat": 4,
 "nbformat_minor": 2
}
