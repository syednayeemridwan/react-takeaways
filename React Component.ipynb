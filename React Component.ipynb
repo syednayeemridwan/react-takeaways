{
 "cells": [
  {
   "cell_type": "markdown",
   "metadata": {},
   "source": [
    "# Creating New Project"
   ]
  },
  {
   "cell_type": "markdown",
   "metadata": {},
   "source": [
    "- run command : `create-react-app app_name`\n",
    "- go to the app: `cd app_name`\n",
    "- start the app: `npm start`"
   ]
  },
  {
   "cell_type": "markdown",
   "metadata": {},
   "source": [
    "# Install and import Bootstrap"
   ]
  },
  {
   "cell_type": "markdown",
   "metadata": {},
   "source": [
    "- run command : `npm i bootstrap@4.1.1`\n",
    "- import in `index.js` : `import 'bootstrap/dist/css/bootstrap.css'`\n"
   ]
  },
  {
   "cell_type": "markdown",
   "metadata": {},
   "source": [
    "# Create components"
   ]
  },
  {
   "cell_type": "markdown",
   "metadata": {},
   "source": [
    "- Create a folder called `components` inside `src` folder\n",
    "- create component file inside `components` folder : `componentName.jsx`\n",
    "- `render()` can return only 1 element. If there are multiple elements, \n",
    "    1. wrap them with a `<div> ... </div>`\n",
    "    2. wrap them with a `<React.Fragment> ... </React.Fragment>`\n",
    "- Inside  `componentName.jsx`:\n",
    "    ```\n",
    "    import React, { Component } from 'react';\n",
    "    \n",
    "    class Component_Name extends Component{\n",
    "        state = {};\n",
    "        render (){\n",
    "            return (<h1> Hello World </h1>);\n",
    "        }\n",
    "    }\n",
    "    \n",
    "    export default Component_Name;\n",
    "    ```\n",
    "\n",
    "- Go to (Use shortcut for \"go to file\" in VS-Code) `index.js`:\n",
    "    ```\n",
    "    import Component_Name from './components/componentName'\n",
    "    \n",
    "    ReactDOM.render( <Component_Name /> , document.getElementById(\"root\"));\n",
    "    ```"
   ]
  }
 ],
 "metadata": {
  "kernelspec": {
   "display_name": "Python 3.8.11 ('env_py')",
   "language": "python",
   "name": "python3"
  },
  "language_info": {
   "name": "python",
   "version": "3.8.11"
  },
  "orig_nbformat": 4,
  "vscode": {
   "interpreter": {
    "hash": "1e949e87132dd83f1a7623eb88007e3532b03b66b77111be347aa4a383049722"
   }
  }
 },
 "nbformat": 4,
 "nbformat_minor": 2
}
