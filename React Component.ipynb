{
 "cells": [
  {
   "cell_type": "markdown",
   "metadata": {},
   "source": [
    "# Creating New Project"
   ]
  },
  {
   "cell_type": "markdown",
   "metadata": {},
   "source": [
    "- run command : `create-react-app app_name`\n",
    "- go to the app: `cd app_name`\n",
    "- start the app: `npm start`"
   ]
  },
  {
   "cell_type": "markdown",
   "metadata": {},
   "source": [
    "# Install and import Bootstrap"
   ]
  },
  {
   "cell_type": "markdown",
   "metadata": {},
   "source": [
    "- run command : `npm i bootstrap@4.1.1`\n",
    "- import in `index.js` : `import 'bootstrap/dist/css/bootstrap.css'`\n"
   ]
  },
  {
   "cell_type": "markdown",
   "metadata": {},
   "source": [
    "# Create components"
   ]
  },
  {
   "cell_type": "markdown",
   "metadata": {},
   "source": [
    "- Create a folder called `components` inside `src` folder\n",
    "- create component file inside `components` folder : `componentName.jsx`\n",
    "- `render()` can return only 1 element. If there are multiple elements, \n",
    "    1. wrap them with a `<div> ... </div>`\n",
    "    2. wrap them with a `<React.Fragment> ... </React.Fragment>`\n",
    "- Inside  `componentName.jsx`:\n",
    "    ```\n",
    "    import React, { Component } from 'react';\n",
    "    \n",
    "    class Component_Name extends Component{\n",
    "        state = {};\n",
    "        render (){\n",
    "            return (<h1> Hello World </h1>);\n",
    "        }\n",
    "    }\n",
    "    \n",
    "    export default Component_Name;\n",
    "    ```\n",
    "\n",
    "- Go to (Use shortcut for \"go to file\" in VS-Code) `index.js`:\n",
    "    ```\n",
    "    import Component_Name from './components/componentName'\n",
    "    \n",
    "    ReactDOM.render( <Component_Name /> , document.getElementById(\"root\"));\n",
    "    ```"
   ]
  },
  {
   "cell_type": "markdown",
   "metadata": {},
   "source": [
    "# Dynamically display data from State"
   ]
  },
  {
   "cell_type": "markdown",
   "metadata": {},
   "source": [
    "- Includes any data that the component needs\n",
    "- Dynamically display value from state to render:\n",
    "```\n",
    "class Component_Name extends Component{\n",
    "        state = {\n",
    "            count : 1\n",
    "        };\n",
    "        render (){\n",
    "            return (\n",
    "                <div> {this.some_method()} </div>\n",
    "                );\n",
    "        }\n",
    "        some_method(){\n",
    "            const {count} = this.state;  /* destructuring to capture value */\n",
    "            return count===0 ? <h1>Zero</h1> : count;\n",
    "        }\n",
    "    }\n",
    "\n",
    "```\n"
   ]
  },
  {
   "cell_type": "markdown",
   "metadata": {},
   "source": [
    "# Setting Custom CSS properties inside `render`"
   ]
  },
  {
   "cell_type": "markdown",
   "metadata": {},
   "source": [
    "```\n",
    "class Component_Name extends Component{\n",
    "\n",
    "        custom_styles = { fontSize : 10}\n",
    "\n",
    "        render (){\n",
    "            return (\n",
    "                <div> \n",
    "                    <span style = {this.custom_styles}> Applying custom style </span>\n",
    "                    <span style = {{ fontSize : 30 }}> Applying inline style </span>\n",
    "                    <span className = \"some bootstrap class\"> Applying bootstrap style </span>\n",
    "                </div>\n",
    "                );\n",
    "        }\n",
    "    }\n",
    "\n",
    "```"
   ]
  },
  {
   "cell_type": "markdown",
   "metadata": {},
   "source": [
    "# Rendering class dynamically"
   ]
  },
  {
   "cell_type": "markdown",
   "metadata": {},
   "source": [
    "```\n",
    "class Component_Name extends Component{\n",
    "        \n",
    "        state = {\n",
    "                    count : 1\n",
    "                };\n",
    "\n",
    "        render (){\n",
    "\n",
    "            let bootstrap_style = \"badge-\";\n",
    "            bootstrap_style += this.state.count === 0 ? \"warning\" : \"primary\";\n",
    "\n",
    "\n",
    "            return (\n",
    "                <div> \n",
    "                    <span className = {bootstrap_style} > Applying dynamic style </span>\n",
    "                </div>\n",
    "                );\n",
    "        }\n",
    "    }\n",
    "\n",
    "```"
   ]
  },
  {
   "cell_type": "markdown",
   "metadata": {},
   "source": [
    "# Cleaning `render` method"
   ]
  },
  {
   "cell_type": "markdown",
   "metadata": {},
   "source": [
    "- Keep the `render` method clean by refactoring extra code\n",
    "- Don't make the `render` method bloated\n",
    "- put everything into a `method` inside the component and call the `method` inside `render`"
   ]
  },
  {
   "cell_type": "markdown",
   "metadata": {},
   "source": [
    "# Looping inside `render` method"
   ]
  },
  {
   "cell_type": "markdown",
   "metadata": {},
   "source": [
    "- There is no way to do direct `for` loop in `render` method\n",
    "- Use `map` method\n",
    "- use `key` with unique attribute when mapping so that react can keep track of the changes\n",
    "- Whenever you want to use `variable` inside `tags`, use `{}`\n",
    "- example:\n",
    "\n",
    "```\n",
    "render (){\n",
    "    return (\n",
    "        <div> \n",
    "            <ul>\n",
    "                {this.state.some_array.map( elem => <li key={elem}>  {elem} </li> )}\n",
    "            </ul>\n",
    "        </div>\n",
    "        );\n",
    "    }\n",
    "```\n"
   ]
  },
  {
   "cell_type": "markdown",
   "metadata": {},
   "source": [
    "# Conditional Rendering"
   ]
  },
  {
   "cell_type": "markdown",
   "metadata": {},
   "source": [
    "### Way 01"
   ]
  },
  {
   "cell_type": "markdown",
   "metadata": {},
   "source": [
    "- There is no way to do direct `if-else` in `render` method\n",
    "- way 01 : Create a `method` in component class outside `render` method and then call that `method` inside `render`\n",
    "\n",
    "\n",
    "```\n",
    "some_method_for_if_else(){\n",
    "    ...if_else...\n",
    "}\n",
    "render (){\n",
    "    return (\n",
    "        <div> \n",
    "            {this.some_method_for_if_else}\n",
    "        </div>\n",
    "        );\n",
    "    }\n",
    "```"
   ]
  },
  {
   "cell_type": "markdown",
   "metadata": {},
   "source": [
    "### Way 02"
   ]
  },
  {
   "cell_type": "markdown",
   "metadata": {},
   "source": [
    "- way 02 : `return` something like : \n",
    "    - `<div> {this.state.some_var && \"This text will be displayed if true\"} </div>`\n",
    "\n",
    "\n",
    "```\n",
    "render (){\n",
    "    return (\n",
    "        <div> \n",
    "            {this.state.some_var && \"This text will be displayed if true\"} \n",
    "        </div>\n",
    "        );\n",
    "    }\n",
    "```"
   ]
  },
  {
   "cell_type": "markdown",
   "metadata": {},
   "source": [
    "# Handling Events"
   ]
  },
  {
   "cell_type": "markdown",
   "metadata": {},
   "source": [
    "- There are DOM events in properties like `onClick..` , `onKey...` etc.\n",
    "- You just pass reference to the method instead of calling it inside the property\n",
    "- sample: `<button onClick= {this.handle_Event_method_name} > Click Me </button>`\n",
    "- example:\n",
    "\n",
    "```\n",
    "handle_someEvent(){\n",
    "    console.log(\"Event handle function to be executed\")\n",
    "}\n",
    "\n",
    "render (){\n",
    "    return (\n",
    "        <div> \n",
    "            <button onClick = {this.handle_someEvent}> click </button>\n",
    "        </div>\n",
    "        );\n",
    "    }\n",
    "```\n"
   ]
  },
  {
   "cell_type": "markdown",
   "metadata": {},
   "source": [
    "# Manipulate states with event handling"
   ]
  },
  {
   "cell_type": "markdown",
   "metadata": {},
   "source": [
    "- By default, you cannot access values from `state` inside your `eventHandle` method. If you access with `this.state.state_member`, it will show `undefined`.\n",
    "    - this is because `this` references the window global function and not the `componentClass`\n",
    " - Solution 01 : Make `this` recognize the `eventHandle` instead of global window class.\n",
    "    - Do this inside `constructor`\n",
    "    - Bind `this` with `eventHandle` method: `this.eventHandle.bind(this)`\n",
    "    - After binding, `this` will be a new object referencing to `global` + `eventHandle` function\n",
    "    - You need to initialize `eventHandle` with the created instance of such object\n",
    " - Solution 02 : Make `eventHandle` an arrow function.\n"
   ]
  },
  {
   "cell_type": "markdown",
   "metadata": {},
   "source": [
    "### Will not Work"
   ]
  },
  {
   "cell_type": "markdown",
   "metadata": {},
   "source": [
    "```\n",
    "state = {\n",
    "    count : 0\n",
    "}\n",
    "\n",
    "handle_someEvent(){\n",
    "    console.log(\"Event handle function to be executed\", this.state.count) /*count will not work */\n",
    "}\n",
    "\n",
    "render (){\n",
    "    return (\n",
    "        <div> \n",
    "            <button onClick = {this.handle_someEvent}> click </button>\n",
    "        </div>\n",
    "        );\n",
    "    }\n",
    "```"
   ]
  },
  {
   "cell_type": "markdown",
   "metadata": {},
   "source": [
    "### Solution 01 : Will Work After re-initializing `this` inside constructor"
   ]
  },
  {
   "cell_type": "markdown",
   "metadata": {},
   "source": [
    "```\n",
    "state = {\n",
    "    count : 0\n",
    "}\n",
    "\n",
    "constructor(){\n",
    "    super();\n",
    "    this.handle_someEvent = this.handle_someEvent.bind(this);\n",
    "}\n",
    "\n",
    "handle_someEvent(){\n",
    "    console.log(\"Event handle function to be executed\", this.state.count)\n",
    "}\n",
    "\n",
    "render (){\n",
    "    return (\n",
    "        <div> \n",
    "            <button onClick = {this.handle_someEvent}> click </button>\n",
    "        </div>\n",
    "        );\n",
    "    }\n",
    "```"
   ]
  },
  {
   "cell_type": "markdown",
   "metadata": {},
   "source": [
    "### Solution 02 : Make your `handle_Event` function into an arrow function\n"
   ]
  },
  {
   "cell_type": "markdown",
   "metadata": {},
   "source": [
    "```\n",
    "state = {\n",
    "    count : 0\n",
    "}\n",
    "\n",
    "\n",
    "handle_someEvent = () => {\n",
    "    console.log(\"Event handle function to be executed\", this.state.count)\n",
    "}\n",
    "\n",
    "render (){\n",
    "    return (\n",
    "        <div> \n",
    "            <button onClick = {this.handle_someEvent}> click </button>\n",
    "        </div>\n",
    "        );\n",
    "    }\n",
    "```"
   ]
  },
  {
   "cell_type": "markdown",
   "metadata": {},
   "source": [
    "# Modifying State"
   ]
  },
  {
   "cell_type": "markdown",
   "metadata": {},
   "source": [
    "- Never modify `state` directly : `this.state.member += 1`\n",
    "    - It will not work since react is not aware of new `state`\n",
    "    - This is why react does not `render` the `new state` in the view\n",
    "- Use `this.setState({ member : this.state.member + 1});;`\n",
    "    - React is aware of the `state` change\n",
    "    - Will bring the DOM in sync with virtual DOM with `new state` by overriding / merging the change with its present `state`\n",
    "- example:\n",
    "\n",
    "```\n",
    "state = {\n",
    "    count : 0\n",
    "}\n",
    "\n",
    "handle_someEvent = () => {\n",
    "    this.setState({count : count + 1});\n",
    "}\n",
    "```\n"
   ]
  },
  {
   "cell_type": "markdown",
   "metadata": {},
   "source": [
    "### What happens under the hood"
   ]
  },
  {
   "cell_type": "markdown",
   "metadata": {},
   "source": [
    "- Click the button\n",
    "- the button has the reference to `event_handling` function\n",
    "- `event_handling` function is going to tell that there is `new state` with `setState()`\n",
    "- This schedules an asynchronous call to `render` method\n",
    "- `render` method returns a `new react element`\n",
    "- There is already an existing `old react element` in the virtual DOM\n",
    "- React puts `new react element` and `old react element` side-by-side to see what is changed\n",
    "- It will reach out to the real browser DOM and updates the latest modified `element` in the from the virtual DOM\n",
    "- Other unchaged elements are not affected"
   ]
  },
  {
   "attachments": {},
   "cell_type": "markdown",
   "metadata": {},
   "source": [
    "# Event handling function with parameters"
   ]
  },
  {
   "cell_type": "markdown",
   "metadata": {},
   "source": [
    "- Since we can only reference to `event_handle` function, we need other way to define parameters\n",
    "    1. Use a wrapper function as a substitute  reference\n",
    "    2. Directly use an inline function\n"
   ]
  },
  {
   "cell_type": "markdown",
   "metadata": {},
   "source": [
    "### 1. Wrapper Function Example"
   ]
  },
  {
   "cell_type": "markdown",
   "metadata": {},
   "source": [
    "```\n",
    "handle_someEvent = (param1) => {\n",
    "    ...\n",
    "}\n",
    "\n",
    "wrapper_handle_someEvent = () => {\n",
    "    this.handle_someEvent({x : 1});\n",
    "}\n",
    "\n",
    "\n",
    "render (){\n",
    "    return (\n",
    "        <div> \n",
    "            <button onClick = {this.wrapper_handle_someEvent}> click </button>\n",
    "        </div>\n",
    "        );\n",
    "    }\n",
    "```"
   ]
  },
  {
   "cell_type": "markdown",
   "metadata": {},
   "source": [
    "### 2. Inline Function Example\n"
   ]
  },
  {
   "cell_type": "markdown",
   "metadata": {},
   "source": [
    "```\n",
    "handle_someEvent = (param1) => {\n",
    "    ...\n",
    "}\n",
    "\n",
    "render (){\n",
    "    return (\n",
    "        <div> \n",
    "            <button onClick = {() => this.handle_someEvent(obj_arg)}> click </button>\n",
    "        </div>\n",
    "        );\n",
    "    }\n",
    "```"
   ]
  }
 ],
 "metadata": {
  "kernelspec": {
   "display_name": "Python 3.8.11 ('env_py')",
   "language": "python",
   "name": "python3"
  },
  "language_info": {
   "name": "python",
   "version": "3.8.11 (default, Aug  6 2021, 09:57:55) [MSC v.1916 64 bit (AMD64)]"
  },
  "orig_nbformat": 4,
  "vscode": {
   "interpreter": {
    "hash": "1e949e87132dd83f1a7623eb88007e3532b03b66b77111be347aa4a383049722"
   }
  }
 },
 "nbformat": 4,
 "nbformat_minor": 2
}
