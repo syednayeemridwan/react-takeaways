{
 "cells": [
  {
   "cell_type": "markdown",
   "metadata": {},
   "source": [
    "# props vs State"
   ]
  },
  {
   "cell_type": "markdown",
   "metadata": {},
   "source": [
    "- `prop` :\n",
    "    - Includes data that we give to a component\n",
    "    - `read-only` : \n",
    "        - We cannot change the input of the component inside the component.\n",
    "        - Will give error if we change it.\n",
    "- `State` :\n",
    "    - Includes data that that is local or `private` to a component\n",
    "    - Other components cannot access the `State`\n",
    "    - You can change `state`\n",
    "\n",
    "- Sometimes a component may not have `state`\n",
    "    - It gets all the data from `props`"
   ]
  },
  {
   "cell_type": "markdown",
   "metadata": {},
   "source": [
    "# Single Source of Truth"
   ]
  },
  {
   "cell_type": "markdown",
   "metadata": {},
   "source": [
    "- Mother component has lots of child components\n",
    "- Each child component can count\n",
    "- You write a `reset_handler` in mother component and call `setState()` to make the count 0\n",
    "- But it does not work\n",
    "    - Actually the value is updated successfully\n",
    "    - But the change is not reflected in the DOM\n",
    "- BECAUSE There is not a single source of truth\n",
    "    - Each component has their own local state\n",
    "    - When we are resetting, the local `state`s of children components are not in sync (changed value is not taken by local state) with Mother `state`\n",
    "    - When children component `state` gets value from mother component `props`, however, the children component's `state` is called only once when the children component was created. When we are resetting, we are calling mother's `state` , not the children's `state`. So mother component updates the state. However, the chilren component's `state` is not called and so the new `state` is not rendered in DOM. The old `state` thus remains in DOM.\n",
    "    - This is too many sources of local `state` = multiple source of truth\n",
    "\n",
    "<center><img src=\"images/050.jpg\"  style=\"width: 400px, height: 300px;\"/></center>\n"
   ]
  }
 ],
 "metadata": {
  "kernelspec": {
   "display_name": "Python 3.8.11 ('env_py')",
   "language": "python",
   "name": "python3"
  },
  "language_info": {
   "name": "python",
   "version": "3.8.11"
  },
  "orig_nbformat": 4,
  "vscode": {
   "interpreter": {
    "hash": "1e949e87132dd83f1a7623eb88007e3532b03b66b77111be347aa4a383049722"
   }
  }
 },
 "nbformat": 4,
 "nbformat_minor": 2
}
