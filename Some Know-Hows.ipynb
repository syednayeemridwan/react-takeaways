{
 "cells": [
  {
   "cell_type": "markdown",
   "metadata": {},
   "source": [
    "# props vs State"
   ]
  },
  {
   "cell_type": "markdown",
   "metadata": {},
   "source": [
    "- `prop` :\n",
    "    - Includes data that we give to a component\n",
    "    - `read-only` : \n",
    "        - We cannot change the input of the component inside the component.\n",
    "        - Will give error if we change it.\n",
    "- `State` :\n",
    "    - Includes data that that is local or `private` to a component\n",
    "    - Other components cannot access the `State`\n",
    "    - You can change `state`\n",
    "\n",
    "- Sometimes a component may not have `state`\n",
    "    - It gets all the data from `props`"
   ]
  },
  {
   "cell_type": "markdown",
   "metadata": {},
   "source": [
    "# Single Source of Truth"
   ]
  },
  {
   "cell_type": "markdown",
   "metadata": {},
   "source": [
    "- Mother component has lots of child components\n",
    "- Each child component can count\n",
    "- You write a `reset_handler` in mother component and call `setState()` to make the count 0\n",
    "- But it does not work\n",
    "    - Actually the value is updated successfully\n",
    "    - But the change is not reflected in the DOM\n",
    "- BECAUSE There is not a single source of truth\n",
    "    - Each component has their own local state\n",
    "    - When we are resetting, the local `state`s of children components are not in sync (changed value is not taken by local state) with Mother `state`\n",
    "    - When children component `state` gets value from mother component `props`, however, the children component's `state` is called only once when the children component was created. When we are resetting, we are calling mother's `state` , not the children's `state`. So mother component updates the state. However, the chilren component's `state` is not called and so the new `state` is not rendered in DOM. The old `state` thus remains in DOM.\n",
    "    - This is too many sources of local `state` = multiple source of truth\n",
    "\n",
    "<center><img src=\"images/050.jpg\"  style=\"width: 400px, height: 300px;\"/></center>\n"
   ]
  },
  {
   "cell_type": "markdown",
   "metadata": {},
   "source": [
    "# Types of Components"
   ]
  },
  {
   "cell_type": "markdown",
   "metadata": {},
   "source": [
    "- 2 types:\n",
    "1. Stateless Functional Component\n",
    "    - No `state` in this component\n",
    "    - All the values are passed through `props`\n",
    "    - Only work inside `render()` function is `return()`\n",
    "    - For these types of components, instead of `class` we turn it into function \n",
    "    - Construct: It is an arrow function that has only `return()`\n",
    "    - There is no `this` keyword in functional component\n",
    "        - If there is any `this.props`, then it will be `props` only\n",
    "    - You cannot use lifecycle hooks in these components\n",
    "2. Stateful Component\n",
    "    - These are `class`\n",
    "    - Also called class components\n",
    "    - There is `state` in this component"
   ]
  },
  {
   "cell_type": "markdown",
   "metadata": {},
   "source": [
    "# Cleaner code with object De-Structuring"
   ]
  },
  {
   "attachments": {},
   "cell_type": "markdown",
   "metadata": {},
   "source": [
    "- So many `this.props` or `this.state` make the code messier\n",
    "- Instead, you can de-structure them like:\n"
   ]
  },
  {
   "cell_type": "markdown",
   "metadata": {},
   "source": [
    "### Old Code"
   ]
  },
  {
   "cell_type": "markdown",
   "metadata": {},
   "source": [
    "```\n",
    "render(){\n",
    "\n",
    "\n",
    "    return(\n",
    "        ....{this.props.member_1}\n",
    "        ....{this.props.member_2}\n",
    "        ....{this.props.member_3}\n",
    "    );\n",
    "}\n",
    "```"
   ]
  },
  {
   "cell_type": "markdown",
   "metadata": {},
   "source": [
    "### New Code"
   ]
  },
  {
   "cell_type": "markdown",
   "metadata": {},
   "source": [
    "```\n",
    "render(){\n",
    "\n",
    "    const {member_1, member_2, member_3} = this.props /* Applyting object de-structuring*/\n",
    "\n",
    "    return(\n",
    "        ....{member_1}\n",
    "        ....{member_2}\n",
    "        ....{member_3}\n",
    "\n",
    "    );\n",
    "}\n",
    "```"
   ]
  },
  {
   "cell_type": "markdown",
   "metadata": {},
   "source": [
    "# Lifecycle and Lifecycle Hooks"
   ]
  },
  {
   "cell_type": "markdown",
   "metadata": {},
   "source": [
    "- Lifecycle : The phase of a components entire life\n",
    "- Lifecycle Hooks : The special methods we can add to the component which are automatically called by React during the components different phase."
   ]
  },
  {
   "cell_type": "markdown",
   "metadata": {},
   "source": [
    "# Disabling a Button"
   ]
  },
  {
   "cell_type": "markdown",
   "metadata": {},
   "source": [
    "- In a property of a button, use conditioning with props:\n",
    "```\n",
    "<button\n",
    "    disabled = {this.props.some_member === 0 ? 'disabled' : ''}\n",
    ">\n",
    "    Click me\n",
    "</button>\n",
    "```"
   ]
  },
  {
   "cell_type": "markdown",
   "metadata": {},
   "source": [
    "# Multiple Pagination in same page"
   ]
  },
  {
   "cell_type": "markdown",
   "metadata": {},
   "source": [
    "- Use bootstrap List group and combine it with pagination"
   ]
  },
  {
   "cell_type": "markdown",
   "metadata": {},
   "source": [
    "# Styling of Elements in a page"
   ]
  },
  {
   "cell_type": "markdown",
   "metadata": {},
   "source": [
    "- Think everything inside a page like a table\n",
    "- Each column of the table has different column space\n",
    "- Now apply bootstrap on the column and row spacing\n"
   ]
  },
  {
   "cell_type": "markdown",
   "metadata": {},
   "source": [
    "# The best place to put data into state"
   ]
  },
  {
   "cell_type": "markdown",
   "metadata": {},
   "source": [
    "- When component is mounted in the DOM\n",
    "```\n",
    "state = {\n",
    "    ....\n",
    "    objs : [], // Make sure the data we will get is array and not undefined \n",
    "    ....\n",
    "};\n",
    "\n",
    "componentDidMount(){\n",
    "    this.setState({objs : getData()});\n",
    "}\n",
    "```"
   ]
  },
  {
   "cell_type": "markdown",
   "metadata": {},
   "source": [
    "# Other events like `onClick`"
   ]
  },
  {
   "cell_type": "markdown",
   "metadata": {},
   "source": [
    "- These are your custom events that you create with `onClick`\n",
    "- `onItemSelect`"
   ]
  },
  {
   "cell_type": "markdown",
   "metadata": {},
   "source": [
    "# Calling vs Referencing props"
   ]
  },
  {
   "cell_type": "markdown",
   "metadata": {},
   "source": [
    "- When you are passing the knowledge of eventhandling function from `mother` to `child` component, you are actually passing the references via `props` like \n",
    "    ```\n",
    "    <div>\n",
    "        ...\n",
    "        <Child_comp\n",
    "            eventhandling_func = {this.handle_event}\n",
    "        />\n",
    "    </div>\n",
    "    ```\n",
    "- Inside the `child` when it is time for rendering, you are calling the function with `onClick` like:\n",
    "    ```\n",
    "    <div>\n",
    "        { objs.map( item=> \n",
    "            ( \n",
    "                <tag_name onClick={() => eventhandling_func(item)}  key={item._id}>`>\n",
    "                    {item.other_member}\n",
    "                </tag_name>\n",
    "            )\n",
    "        )}\n",
    "    </div>\n",
    "    ```"
   ]
  },
  {
   "cell_type": "markdown",
   "metadata": {},
   "source": [
    "# When to refactor"
   ]
  },
  {
   "cell_type": "markdown",
   "metadata": {},
   "source": [
    "- When one component has both high and low level abstraction (eg: a `Child` component and a raw `table` tag in the same component), then refactoring is needed\n",
    "- Refactor low level abstraction (raw `table` tag) to new component \n",
    "- Use the new component in previous code's place\n",
    "- This way, high level abstraction is clearly separated from low level abstraction"
   ]
  },
  {
   "attachments": {},
   "cell_type": "markdown",
   "metadata": {},
   "source": [
    "# Delete Unused Code"
   ]
  },
  {
   "attachments": {},
   "cell_type": "markdown",
   "metadata": {},
   "source": [
    "- When you see unused code warning, delete them\n",
    "- Reduce code smell\n",
    "    <center><img src=\"images/082.01.jpg\"  style=\"width: 400px, height: 300px;\"/></center>\n",
    "    \n",
    "    <center><img src=\"images/082.02.jpg\"  style=\"width: 400px, height: 300px;\"/></center>\n"
   ]
  },
  {
   "attachments": {},
   "cell_type": "markdown",
   "metadata": {},
   "source": [
    "# How to use keys if some objects don't have same attribute?"
   ]
  },
  {
   "attachments": {},
   "cell_type": "markdown",
   "metadata": {},
   "source": [
    "- Use or (`||`) operation with multiple member of the object.\n",
    "- That way, each `render`ed member becomes unique and console wont show any error\n",
    "- Example:\n",
    "    - `<some_tag key = {obj.id || obj.random_member} .... > </some_tag>`"
   ]
  },
  {
   "attachments": {},
   "cell_type": "markdown",
   "metadata": {},
   "source": [
    "# You can create React Elements outside `render()`"
   ]
  },
  {
   "attachments": {},
   "cell_type": "markdown",
   "metadata": {},
   "source": [
    "- example:\n",
    "```\n",
    "const outer = <Another_Tag> </Another_Tag>\n",
    "\n",
    "class SomeComp extends Component{\n",
    "    columns = [\n",
    "        { },\n",
    "        {content : <Another_Tag/>},\n",
    "        {content : (x) = > (<Another_Tag some_event = {x} />)},\n",
    "        ....\n",
    "    ]\n",
    "}\n",
    "```"
   ]
  }
 ],
 "metadata": {
  "kernelspec": {
   "display_name": "Python 3.8.11 ('env_py')",
   "language": "python",
   "name": "python3"
  },
  "language_info": {
   "name": "python",
   "version": "3.8.11"
  },
  "orig_nbformat": 4,
  "vscode": {
   "interpreter": {
    "hash": "1e949e87132dd83f1a7623eb88007e3532b03b66b77111be347aa4a383049722"
   }
  }
 },
 "nbformat": 4,
 "nbformat_minor": 2
}
