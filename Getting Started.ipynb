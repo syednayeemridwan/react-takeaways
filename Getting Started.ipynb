{
 "cells": [
  {
   "cell_type": "markdown",
   "metadata": {},
   "source": [
    "# Why React"
   ]
  },
  {
   "cell_type": "markdown",
   "metadata": {},
   "source": [
    "- Most popular JS library to build fast and interactive UI\n",
    "- Heart of React = Component \n",
    "- Keeps light-weight representation of DOM in memory (Virtual DOM), which is cheap to create rather than Browser DOM\n",
    "- It is a library (not a framework or complete solution. It only takes care of rendering the view so that the view is in sync with state)\n"
   ]
  },
  {
   "cell_type": "markdown",
   "metadata": {},
   "source": [
    "# Component"
   ]
  },
  {
   "cell_type": "markdown",
   "metadata": {},
   "source": [
    "- Piece of UI\n",
    "- Independent\n",
    "- Isolated\n",
    "- Re-usable\n",
    "- Every React app has at least 1 component (Root component `App`)\n",
    "- Bunches of components together make a fully functional React app (React app = tree of components)\n",
    "- It is a javascript class with `state` and `render` method\n",
    "    - `state` is the data that is displayed when the component is `render`ed\n",
    "    - `render` describes what the UI should look like\n",
    "    - Output of `render` is `React Element` (JS object that maps to DOM Element in memory)\n",
    "- When we change the `state` of `component`, we get a new `React Element`, React compares this new element and its children with the old element and its children, and knows what is changed, and then it updates the real DOM accordingly to keep it sync with virtual DOM. [This is why it is React to state changes]\n",
    "\n"
   ]
  },
  {
   "cell_type": "markdown",
   "metadata": {},
   "source": [
    "# Needed Stuffs to get started"
   ]
  },
  {
   "cell_type": "markdown",
   "metadata": {},
   "source": [
    "- Node package manager (NPM) to install third-party libraries (Install nodejs latest version)\n",
    "    - `npm i -g create-react-app@1.5.2`\n",
    "- Editor : VS-Code with extensions\n",
    "    - `Simple React Snippets` by Burke Holland\n",
    "    -  `Prettier` by Esben Petersen\n",
    "    - Enable autosave (setting > search)\n",
    "    - Enable format on save"
   ]
  },
  {
   "cell_type": "markdown",
   "metadata": {},
   "source": [
    "# Creating a react app"
   ]
  },
  {
   "cell_type": "markdown",
   "metadata": {},
   "source": [
    "- `create-react-app app_name` : Creating starting code\n",
    "- `cd app_name` : Go to project directory\n",
    "- `npm start` : Start the app\n",
    "    - accessible by browser at `localhost:3000`\n",
    "    "
   ]
  },
  {
   "cell_type": "markdown",
   "metadata": {},
   "source": [
    "# Inside a react app"
   ]
  },
  {
   "cell_type": "markdown",
   "metadata": {},
   "source": [
    "- `node modules` = packages installed by npm\n",
    "- `package.json` = Package info\n",
    "    - `dependencies` : dependencies on libraries.\n",
    "    - `scripts` : commands\n",
    "        - `start` = run the app\n",
    "        - `build` = build the app\n",
    "        - `test` = unit test\n",
    "        - `eject` = eject default configurations from `create-react-app` \n",
    "- `public` = public assets of the app\n",
    "    - `index.html` : There is a `div` with id `root`. The app will appear here. This is the container for react application.\n",
    "    - `manifest.json` : Meta-data attribute about the app\n",
    "    - `favicon.ico` : Favt icon\n",
    "-  `src`\n",
    "    - `App.js` : Base component that renders the UI\n",
    "        - Returns markup in `JSX` which represents what the UI looks like. This markup is passed through `babel` (javascript Compiler) and then converted to plain javascript code that browser understands.\n",
    "    - `App.test.js` : For testing\n",
    "    - `index.js` : Entry point of the application\n",
    "    - `logo.svg` : Logo of the application\n",
    "<center><img src=\"images/003.01.jpg\"  style=\"width: 400px, height: 300px;\"/></center>\n",
    "<center><img src=\"images/003.02.jpg\"  style=\"width: 400px, height: 300px;\"/></center>\n"
   ]
  },
  {
   "cell_type": "markdown",
   "metadata": {},
   "source": [
    "# Start From Scratch"
   ]
  },
  {
   "cell_type": "markdown",
   "metadata": {},
   "source": [
    "- Delete everything inside `src` folder\n",
    "- Create a new file `index.js` inside `src`\n",
    "- Import `React` and `ReactDOM`\n",
    "- Workflow:\n",
    "    - We write code in `JSX`\n",
    "    - `JSX` is compiled into `React Element` which is a part of virtual DOM. This is done by `React` import\n",
    "    - We need to render this virtual DOM to real DOM. This is done by `ReactDOM` import. \n",
    "    - `ReactDOM` attaches the `React Element` with container `index.html`\n",
    "    - In a real world application, instead of a `React Element` we render root component of out application (`App Component`) as `React Component` in the DOM\n",
    "\n",
    "\n",
    "<center><img src=\"images/004.01.jpg\"  style=\"width: 400px, height: 300px;\"/></center>\n",
    "<center><img src=\"images/004.02.jpg\"  style=\"width: 400px, height: 300px;\"/></center>\n"
   ]
  },
  {
   "cell_type": "markdown",
   "metadata": {},
   "source": [
    "# Customize configuration"
   ]
  },
  {
   "cell_type": "markdown",
   "metadata": {},
   "source": [
    "- run command : `npm run eject`\n",
    "- Now see `dependencies` of`package.json` \n",
    "- A new folder `config` where configurations are stored\n",
    "\n",
    "<center><img src=\"images/005.jpg\"  style=\"width: 400px, height: 300px;\"/></center>\n"
   ]
  }
 ],
 "metadata": {
  "kernelspec": {
   "display_name": "Python 3.8.11 ('env_py')",
   "language": "python",
   "name": "python3"
  },
  "language_info": {
   "name": "python",
   "version": "3.8.11"
  },
  "orig_nbformat": 4,
  "vscode": {
   "interpreter": {
    "hash": "1e949e87132dd83f1a7623eb88007e3532b03b66b77111be347aa4a383049722"
   }
  }
 },
 "nbformat": 4,
 "nbformat_minor": 2
}
