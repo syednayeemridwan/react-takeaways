{
 "cells": [
  {
   "cell_type": "markdown",
   "metadata": {},
   "source": [
    "# Setting Up Project Folder"
   ]
  },
  {
   "cell_type": "markdown",
   "metadata": {},
   "source": [
    "- `create-react-app project_name`\n",
    "- `cd project_name`\n",
    "- `npm i bootstrap@4.1.1 font-awesome@4.7.0` \n",
    "- `src` > `index.js` :\n",
    "    >> `import 'bootstrap/dist/css/bootstrap.css'`\n",
    "    \n",
    "    >> `import 'font-awesome/css/font-awesome.css'`\n",
    "- `npm start`\n"
   ]
  },
  {
   "cell_type": "markdown",
   "metadata": {},
   "source": [
    "# Replace default template with Bootstrap template"
   ]
  },
  {
   "cell_type": "markdown",
   "metadata": {},
   "source": [
    "- Go to getbootstrap.com/examples\n",
    "- Choose Framework > Starter Template (open the page)\n",
    "- Right click > View page source : See `<main class=\"container\">` is written somewhere\n",
    "- Your `index.js` is rendering `App.js`\n",
    "    - Go to `App.js` > `render()` method\n",
    "    - Delete the existing `div` tag\n",
    "    - Instead write: `<main class=\"container\"> </main>`\n",
    "    - Now the bootstrap template is rendered instead of default template\n",
    "<center><img src=\"images/036.01.jpg\"  style=\"width: 400px, height: 300px;\"/></center>\n"
   ]
  },
  {
   "cell_type": "markdown",
   "metadata": {},
   "source": [
    "# Sample Data"
   ]
  },
  {
   "cell_type": "markdown",
   "metadata": {},
   "source": [
    "- Check `sample data` folder where some samples are provided to get started\n"
   ]
  },
  {
   "cell_type": "markdown",
   "metadata": {},
   "source": [
    "# Creating the first target view"
   ]
  },
  {
   "cell_type": "markdown",
   "metadata": {},
   "source": [
    "<center><img src=\"images/037.01.jpg\"  style=\"width: 400px, height: 300px;\"/></center>\n",
    "<center><img src=\"images/037.02.jpg\"  style=\"width: 400px, height: 300px;\"/></center>\n"
   ]
  },
  {
   "cell_type": "markdown",
   "metadata": {},
   "source": [
    "# Creating Component"
   ]
  },
  {
   "cell_type": "markdown",
   "metadata": {},
   "source": [
    "### Step 1 : Create simple component"
   ]
  },
  {
   "cell_type": "markdown",
   "metadata": {},
   "source": [
    "- `src` > Create a new folder `components`\n",
    "- create a file in `components` > `movies.jsx`\n",
    "- inside `movies.jsx`:\n",
    "\n",
    "```\n",
    "import React, {Component} from \"react\";\n",
    "\n",
    "class Movies extends Component{\n",
    "    state = {};\n",
    "    render(){\n",
    "        return <h2> Movies Component </h2>;\n",
    "    }\n",
    "}\n",
    "\n",
    "export default Movies;\n",
    "```"
   ]
  },
  {
   "cell_type": "markdown",
   "metadata": {},
   "source": [
    "### Step 2 : Add the simple component with `App.js`\n"
   ]
  },
  {
   "cell_type": "markdown",
   "metadata": {},
   "source": [
    "- Inside `App.js`:\n",
    "    1. import the component \n",
    "    2. Add the component inside `render()` function\n",
    "\n",
    "```\n",
    "import Movies from './components/movies';\n",
    "\n",
    "...\n",
    "\n",
    "render(){\n",
    "    return (\n",
    "        <main className = \"container\">\n",
    "            <Movies> </Movies>\n",
    "        </main>\n",
    "    )\n",
    "}\n",
    "```"
   ]
  },
  {
   "cell_type": "markdown",
   "metadata": {},
   "source": [
    "### Step 3 : Get the data file and make sure the method to get the data is `export function`\n"
   ]
  },
  {
   "cell_type": "markdown",
   "metadata": {},
   "source": [
    "- You have sample data file.\n",
    "- The file contains data\n",
    "- The file contains methods to get single data\n",
    "- The file contains methods to save data\n",
    "- The file contains methods to get all data\n",
    "- These methods are exported and are ready to be imported by your components\n",
    "\n",
    "<center><img src=\"images/038.01.jpg\"  style=\"width: 400px, height: 300px;\"/></center>\n",
    "<center><img src=\"images/038.02.jpg\"  style=\"width: 400px, height: 300px;\"/></center>\n",
    "\n",
    "\n"
   ]
  },
  {
   "cell_type": "markdown",
   "metadata": {},
   "source": [
    "### Step 4 : Customize your `Movie` component with Bootstrap with data\n"
   ]
  },
  {
   "cell_type": "markdown",
   "metadata": {},
   "source": [
    "1. Inside the component, import the methods to get data:\n",
    "    - `import {getMovies} from \"../data/data_file\"`\n",
    "2. call the method to get data inside component's state:\n",
    "```\n",
    "state = {\n",
    "    movies : getMovies();\n",
    "}\n",
    "```\n",
    "3. inside component's `render()` use `map()`:\n",
    "```\n",
    "<tag> {this.state.movies.map( obj =>\n",
    "    <obj_tag>\n",
    "        <new_tag> {obj.member1} </new_tag>\n",
    "        <new_tag> {obj.member2} </new_tag>\n",
    "        <new_tag> {obj.member3} </new_tag>\n",
    "    </obj_tag>\n",
    ")} </tag>\n",
    "```\n",
    "4. Provide `unique key` for each object you are rendering:\n",
    "```\n",
    "<tag> {this.state.movies.map( obj =>\n",
    "    <obj_tag key = {obj.unique_member}>\n",
    "        <new_tag> {obj.member1} </new_tag>\n",
    "        <new_tag> {obj.member2} </new_tag>\n",
    "        <new_tag> {obj.member3} </new_tag>\n",
    "    </obj_tag>\n",
    ")} </tag>\n",
    "```\n",
    "<center><img src=\"images/038.03.jpg\"  style=\"width: 400px, height: 300px;\"/></center>\n",
    "<center><img src=\"images/038.04.jpg\"  style=\"width: 400px, height: 300px;\"/></center>\n",
    "\n"
   ]
  },
  {
   "cell_type": "markdown",
   "metadata": {},
   "source": [
    "### Step 5 : Create `button` and make `evenhandlingFunction`\n"
   ]
  },
  {
   "cell_type": "markdown",
   "metadata": {},
   "source": [
    "1. Create button with bootstrap\n",
    "2. Add `onClick = {this.handleDelete}` as property\n",
    "    - You see that you need a parameter to acces data as argument\n",
    "    - You need to re-write: `onClick = { () => this.handleDelete(element)}`\n",
    "3. Define `handleDelete(param_element)` method with `filter` function\n",
    "    - `const new_movies = this.state.movies.filter( element => element.unique_id != param_element.unique_id)`\n",
    "4. Override state with `this.setState({movies : new_movies});`\n",
    "<center><img src=\"images/039.01.jpg\"  style=\"width: 400px, height: 300px;\"/></center>\n",
    "<center><img src=\"images/039.02.jpg\"  style=\"width: 400px, height: 300px;\"/></center>\n",
    "<center><img src=\"images/039.03.jpg\"  style=\"width: 400px, height: 300px;\"/></center>\n",
    "\n",
    "\n"
   ]
  },
  {
   "cell_type": "markdown",
   "metadata": {},
   "source": [
    "### Step 6 : Create custom message with `if-else` by double `return` inside `render()`\n"
   ]
  },
  {
   "cell_type": "markdown",
   "metadata": {},
   "source": [
    "- Sample code:\n",
    "```\n",
    "render(){ \n",
    "if (this.state.movies.length === 0)\n",
    "    return <p> No Movies </p>;\n",
    "\n",
    "return(\n",
    "    ... other main implementations ...\n",
    ")\n",
    "...\n",
    "}\n",
    "```\n",
    "<center><img src=\"images/040.jpg\"  style=\"width: 400px, height: 300px;\"/></center>\n",
    "\n"
   ]
  },
  {
   "cell_type": "markdown",
   "metadata": {},
   "source": [
    "# Changing style for `index.js`"
   ]
  },
  {
   "cell_type": "markdown",
   "metadata": {},
   "source": [
    "- Go to `index.css` to customize styling for the main app\n",
    "<center><img src=\"images/040.02.jpg\"  style=\"width: 400px, height: 300px;\"/></center>\n",
    "\n"
   ]
  }
 ],
 "metadata": {
  "kernelspec": {
   "display_name": "Python 3.8.11 ('env_py')",
   "language": "python",
   "name": "python3"
  },
  "language_info": {
   "name": "python",
   "version": "3.8.11"
  },
  "orig_nbformat": 4,
  "vscode": {
   "interpreter": {
    "hash": "1e949e87132dd83f1a7623eb88007e3532b03b66b77111be347aa4a383049722"
   }
  }
 },
 "nbformat": 4,
 "nbformat_minor": 2
}
