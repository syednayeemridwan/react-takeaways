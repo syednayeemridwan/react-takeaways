{
 "cells": [
  {
   "cell_type": "markdown",
   "metadata": {},
   "source": [
    "# Loop"
   ]
  },
  {
   "cell_type": "markdown",
   "metadata": {},
   "source": [
    "```\n",
    "for (var i = 0; i < 5; i++){\n",
    "    console.log(i)\n",
    "}\n",
    "```"
   ]
  },
  {
   "cell_type": "markdown",
   "metadata": {},
   "source": [
    "# Function"
   ]
  },
  {
   "cell_type": "markdown",
   "metadata": {},
   "source": [
    "- Creating a function:\n",
    "```\n",
    "function func_name(){\n",
    "    ...body...\n",
    "}\n",
    "```\n",
    "- Calling a function: `func_name()`"
   ]
  },
  {
   "cell_type": "markdown",
   "metadata": {},
   "source": [
    "# Var vs Let vs Const"
   ]
  },
  {
   "cell_type": "markdown",
   "metadata": {},
   "source": [
    "- declaring variables with `var` will make the variables accessible outside of scope of block\n",
    "    - `var x = 10`\n",
    "- declaring variables with `let` will make the variables only accessible inside of scope of block\n",
    "    - `let x = 10`\n",
    "- declaring constants with `const` will make the variables only accessible inside of scope of block\n",
    "    - `const` is read-only : cannot be re-assigned later\n",
    "    - `const x = 10`"
   ]
  },
  {
   "cell_type": "markdown",
   "metadata": {},
   "source": [
    "# Object"
   ]
  },
  {
   "cell_type": "markdown",
   "metadata": {},
   "source": [
    "- key-value pairs\n",
    "- If there is a function inside the object, that function is method.\n",
    "    - There are 2 ways of defining a method\n",
    "\n",
    "```\n",
    "const obj_name = {\n",
    "    key : 'value',\n",
    "    key2_method : function (){},\n",
    "    key3_method(){} // preferred method way\n",
    "};\n",
    "```\n",
    "\n",
    "- Accessing methods: `obj_name.key3_method()`\n",
    "- Accessing members: `obj_name['key']='new_value'`\n",
    "- Dynamic access example:\n",
    "\n",
    "```\n",
    "const obj_name = {\n",
    "    key : 'value'\n",
    "};\n",
    "\n",
    "const some_var = 'key';\n",
    "obj_name[some_var.value] = 'new_value';\n",
    "\n",
    "```"
   ]
  },
  {
   "cell_type": "markdown",
   "metadata": {},
   "source": [
    "# `this` keyword"
   ]
  },
  {
   "cell_type": "markdown",
   "metadata": {},
   "source": [
    "- Returns reference to current object\n",
    "- Values is determined by how the function is called\n",
    "    - If the function is called as a method in an object, `this` returns reference to that object\n",
    "    - If the function is called outside of an object (as a stand-alone function), `this` returns reference to the global object\n",
    "    - Even if the `this` keyword is called as a method in an object, if the method is a built-in function / window function, `this` returns reference to the global object\n",
    "<center><img src=\"images/011.01.jpg\"  style=\"width: 400px, height: 300px;\"/></center>\n",
    "<center><img src=\"images/011.02.jpg\"  style=\"width: 400px, height: 300px;\"/></center>\n",
    "\n"
   ]
  },
  {
   "cell_type": "markdown",
   "metadata": {},
   "source": [
    "# Resolving `this` issue"
   ]
  },
  {
   "cell_type": "markdown",
   "metadata": {},
   "source": [
    "- Every function in javascript is an object\n",
    "- Use `bind()` function to bind `this` keyword to the enclosing object\n",
    "- instead of referencing like: `const x = obj_name.method_name;` \n",
    "    - do this : `const x = obj_name.method_name.bind(obj_name);`\n",
    "- Most common way : Use arrow functions to avoid unnecessary extra steps\n",
    "<center><img src=\"images/012.01.jpg\"  style=\"width: 400px, height: 300px;\"/></center>\n",
    "<center><img src=\"images/012.02.jpg\"  style=\"width: 400px, height: 300px;\"/></center>"
   ]
  },
  {
   "cell_type": "markdown",
   "metadata": {},
   "source": [
    "# Arrow Function"
   ]
  },
  {
   "cell_type": "markdown",
   "metadata": {},
   "source": [
    "- Old function:\n",
    "```\n",
    "const func_name = function(param) {\n",
    "    ..do something...\n",
    "    return param*param\n",
    "    }\n",
    "```\n",
    "- New function: (You do not need `function` keyword)\n",
    "```\n",
    "const func_name = (param) => {\n",
    "    ..do something...\n",
    "    return param*param\n",
    "    }\n",
    "```"
   ]
  },
  {
   "cell_type": "markdown",
   "metadata": {},
   "source": [
    "# `filter` Method"
   ]
  },
  {
   "cell_type": "markdown",
   "metadata": {},
   "source": [
    "- Iterates over an array and passes each item of the array in its predicate function (The function inside)\n",
    "- Predicate function evaluates for each item whether the item should be returned or not after passing through the predicate function\n",
    "- Returns a new array of elements that passes the predicate functions boolean condition \n",
    "\n",
    "```\n",
    "const filtered_array = some_array.filter(\n",
    "    function(each_item_of_array){\n",
    "        return each_item_of_array.some_member;\n",
    "        }\n",
    "    );\n",
    "```\n",
    "- Arrow function representation:\n",
    "```\n",
    "const filtered_array = some_array.filter(\n",
    "    (each_item_of_array) => { return each_item_of_array.some_member;}\n",
    "    );\n",
    "```\n",
    "<center><img src=\"images/013.jpg\"  style=\"width: 400px, height: 300px;\"/></center>\n"
   ]
  },
  {
   "cell_type": "markdown",
   "metadata": {},
   "source": [
    "# `map` Method"
   ]
  },
  {
   "cell_type": "markdown",
   "metadata": {},
   "source": [
    "- Iterates over an array and passes each item of the array in its predicate function (The function inside)\n",
    "- Predicate function transforms each item \n",
    "- Returns a new array of transformed elements\n",
    "```\n",
    "const mapped_array = some_array.map(\n",
    "    function(each_item_of_array){\n",
    "        return 'item: ' + each_item_of_array ;\n",
    "        }\n",
    "    );\n",
    "```\n",
    "- Arrow function representation:\n",
    "```\n",
    "const mapped_array = some_array.map(\n",
    "    (each_item_of_array) => return 'item: ' + each_item_of_array;\n",
    "    );\n",
    "```\n",
    "<center><img src=\"images/015.jpg\"  style=\"width: 400px, height: 300px;\"/></center>\n"
   ]
  },
  {
   "cell_type": "markdown",
   "metadata": {},
   "source": [
    "# Template Literals"
   ]
  },
  {
   "cell_type": "markdown",
   "metadata": {},
   "source": [
    "- Like f-string of python\n",
    "- String interpolation\n",
    "<center><img src=\"images/015.02.jpg\"  style=\"width: 400px, height: 300px;\"/></center>\n",
    "<center><img src=\"images/015.03.jpg\"  style=\"width: 400px, height: 300px;\"/></center>\n"
   ]
  },
  {
   "cell_type": "markdown",
   "metadata": {},
   "source": [
    "# Object Destructuring"
   ]
  },
  {
   "cell_type": "markdown",
   "metadata": {},
   "source": [
    "- Just like python unpacking from tuples\n",
    "- `const {member1 : a,member2: b,member3: c} = obj_name`\n",
    "    - Left side of `:` should have same member name as in object `obj_name`\n",
    "    - Right side of `:` is considered as alias name of the object member\n",
    "\n",
    "<center><img src=\"images/016.jpg\"  style=\"width: 400px, height: 300px;\"/></center>\n",
    "\n"
   ]
  },
  {
   "cell_type": "markdown",
   "metadata": {},
   "source": [
    "# Spread Operator"
   ]
  },
  {
   "cell_type": "markdown",
   "metadata": {},
   "source": [
    "- Used for extracting individual members from arrays / objects\n",
    "- Used for cloning \n",
    "    - `const clone_array= [...some_array];`\n",
    "    - `combined_array = [...array_1, ...array_2];`\n",
    "    - `const clone_obj= [...some_obj];`\n",
    "    - `combined_obj= [...obj_1, ...obj_2];`\n"
   ]
  },
  {
   "cell_type": "markdown",
   "metadata": {},
   "source": [
    "# Classes"
   ]
  },
  {
   "cell_type": "markdown",
   "metadata": {},
   "source": [
    "- Blueprint for objects\n",
    "- example:\n",
    "```\n",
    "class Class_Name{\n",
    "    constructor(param_name){\n",
    "        this.name = name;\n",
    "    }\n",
    "\n",
    "    some_method() {\n",
    "        console.log(\"Some Method\");\n",
    "    }\n",
    "}\n",
    "```\n",
    "- creating object: `const some_obj = new Class_Name(\"Abir\");`\n",
    "- access object member: `some_obj.some_method;`"
   ]
  },
  {
   "cell_type": "markdown",
   "metadata": {},
   "source": [
    "# Inheritance"
   ]
  },
  {
   "cell_type": "markdown",
   "metadata": {},
   "source": [
    "- \"IS A\" relationship\n",
    "- One class (child class) inherits the functionality of mother class\n",
    "- child class should include `super()` keyword in it's constructor to inherit mother class's constructor\n",
    "- example :\n",
    "```\n",
    "class Mother{\n",
    "    constructor(mother_name){\n",
    "        this.name = mother_name;\n",
    "    }\n",
    "\n",
    "    mother_method(){}\n",
    "}\n",
    "\n",
    "class Child extends Mother{\n",
    "    constructor(child_name, child_education){\n",
    "        super(child_name);\n",
    "        this.education = child_education\n",
    "    }\n",
    "\n",
    "    child_method(){}\n",
    "}\n",
    "\n",
    "```\n",
    "- Accessing Child class members:\n",
    "```\n",
    "const child_obj = new Child(\"Abir\", \"PhD\");\n",
    "child_obj.mother_method();\n",
    "child_obj.child_method();\n",
    "```"
   ]
  },
  {
   "cell_type": "markdown",
   "metadata": {},
   "source": [
    "# Modules"
   ]
  },
  {
   "cell_type": "markdown",
   "metadata": {},
   "source": [
    "- When large code is splitted across multiple files, each file is called a module\n",
    "- This task of splitting large codes into smaller codes with multiple files is called modularity\n",
    "- Import with : `import {Class_Name} from './file_name'`\n",
    "- example: \n",
    "    - `Mother` class is written in `mother.js` file\n",
    "    - `Child` class is written in `child.js` file\n",
    "    - prefix class with `export` (make it accessible from outside, like `public` access modifier) :\n",
    "        - `export class Child ....`\n",
    "        - `export class Mother ....`\n",
    "    - Top of `Child` class : `import {Mother} from './mother'`\n",
    "\n",
    "<center><img src=\"images/020.00.jpg\"  style=\"width: 400px, height: 300px;\"/></center>\n",
    "<center><img src=\"images/020.jpg\"  style=\"width: 400px, height: 300px;\"/></center>\n"
   ]
  }
 ],
 "metadata": {
  "kernelspec": {
   "display_name": "Python 3.8.11 ('env_py')",
   "language": "python",
   "name": "python3"
  },
  "language_info": {
   "name": "python",
   "version": "3.8.11"
  },
  "orig_nbformat": 4,
  "vscode": {
   "interpreter": {
    "hash": "1e949e87132dd83f1a7623eb88007e3532b03b66b77111be347aa4a383049722"
   }
  }
 },
 "nbformat": 4,
 "nbformat_minor": 2
}
