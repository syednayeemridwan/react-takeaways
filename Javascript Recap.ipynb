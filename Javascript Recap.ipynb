{
 "cells": [
  {
   "cell_type": "markdown",
   "metadata": {},
   "source": [
    "# Loop"
   ]
  },
  {
   "cell_type": "markdown",
   "metadata": {},
   "source": [
    "```\n",
    "for (var i = 0; i < 5; i++){\n",
    "    console.log(i)\n",
    "}\n",
    "```"
   ]
  },
  {
   "cell_type": "markdown",
   "metadata": {},
   "source": [
    "# Function"
   ]
  },
  {
   "cell_type": "markdown",
   "metadata": {},
   "source": [
    "- Creating a function:\n",
    "```\n",
    "function func_name(){\n",
    "    ...body...\n",
    "}\n",
    "```\n",
    "- Calling a function: `func_name()`"
   ]
  },
  {
   "cell_type": "markdown",
   "metadata": {},
   "source": [
    "# Var vs Let vs Const"
   ]
  },
  {
   "cell_type": "markdown",
   "metadata": {},
   "source": [
    "- declaring variables with `var` will make the variables accessible outside of scope of block\n",
    "    - `var x = 10`\n",
    "- declaring variables with `let` will make the variables only accessible inside of scope of block\n",
    "    - `let x = 10`\n",
    "- declaring constants with `const` will make the variables only accessible inside of scope of block\n",
    "    - `const` is read-only : cannot be re-assigned later\n",
    "    - `const x = 10`"
   ]
  },
  {
   "cell_type": "markdown",
   "metadata": {},
   "source": [
    "# Object"
   ]
  },
  {
   "cell_type": "markdown",
   "metadata": {},
   "source": [
    "- key-value pairs\n",
    "- If there is a function inside the object, that function is method.\n",
    "    - There are 2 ways of defining a method\n",
    "\n",
    "```\n",
    "const obj_name = {\n",
    "    key : 'value',\n",
    "    key2_method : function (){},\n",
    "    key3_method(){} // preferred method way\n",
    "};\n",
    "```\n",
    "\n",
    "- Accessing methods: `obj_name.key3_method()`\n",
    "- Accessing members: `obj_name['key']='new_value'`\n",
    "- Dynamic access example:\n",
    "\n",
    "```\n",
    "const obj_name = {\n",
    "    key : 'value'\n",
    "};\n",
    "\n",
    "const some_var = 'key';\n",
    "obj_name[some_var.value] = 'new_value';\n",
    "\n",
    "```"
   ]
  },
  {
   "cell_type": "markdown",
   "metadata": {},
   "source": [
    "# `this` keyword"
   ]
  },
  {
   "cell_type": "markdown",
   "metadata": {},
   "source": [
    "- Returns reference to current object\n",
    "- Values is determined by how the function is called\n",
    "    - If the function is called as a method in an object, `this` returns reference to that object\n",
    "    - If the function is called outside of an object (as a stand-alone function), `this` returns reference to the global object\n",
    "    - Even if the `this` keyword is called as a method in an object, if the method is a built-in function / window function, `this` returns reference to the global object\n",
    "<center><img src=\"images/011.01.jpg\"  style=\"width: 400px, height: 300px;\"/></center>\n",
    "<center><img src=\"images/011.02.jpg\"  style=\"width: 400px, height: 300px;\"/></center>\n",
    "\n"
   ]
  },
  {
   "cell_type": "markdown",
   "metadata": {},
   "source": [
    "# Resolving `this` issue"
   ]
  },
  {
   "cell_type": "markdown",
   "metadata": {},
   "source": [
    "- Every function in javascript is an object\n",
    "- Use `bind()` function to bind `this` keyword to the enclosing object\n",
    "- instead of referencing like: `const x = obj_name.method_name;` \n",
    "    - do this : `const x = obj_name.method_name.bind(obj_name);`\n",
    "- Most common way : Use arrow functions to avoid unnecessary extra steps\n",
    "<center><img src=\"images/012.01.jpg\"  style=\"width: 400px, height: 300px;\"/></center>\n",
    "<center><img src=\"images/012.02.jpg\"  style=\"width: 400px, height: 300px;\"/></center>"
   ]
  },
  {
   "cell_type": "markdown",
   "metadata": {},
   "source": [
    "# Arrow Function"
   ]
  },
  {
   "cell_type": "markdown",
   "metadata": {},
   "source": [
    "- Old function:\n",
    "```\n",
    "const func_name = function(param) {\n",
    "    ..do something...\n",
    "    return param*param\n",
    "    }\n",
    "```\n",
    "- New function: (You do not need `function` keyword)\n",
    "```\n",
    "const func_name = (param) => {\n",
    "    ..do something...\n",
    "    return param*param\n",
    "    }\n",
    "```"
   ]
  },
  {
   "cell_type": "markdown",
   "metadata": {},
   "source": [
    "# `filter` Method"
   ]
  },
  {
   "cell_type": "markdown",
   "metadata": {},
   "source": [
    "- Iterates over an array and passes each item of the array in its predicate function (The function inside)\n",
    "- Predicate function evaluates for each item whether the item should be returned or not after passing through the predicate function\n",
    "- Returns a new array of elements that passes the predicate functions boolean condition \n",
    "\n",
    "```\n",
    "const filtered_array = some_array.filter(\n",
    "    function(each_item_of_array){\n",
    "        return each_item_of_array.some_member;\n",
    "        }\n",
    "    );\n",
    "```\n",
    "- Arrow function representation:\n",
    "```\n",
    "const filtered_array = some_array.filter(\n",
    "    (each_item_of_array) => { return each_item_of_array.some_member;}\n",
    "    );\n",
    "```\n",
    "<center><img src=\"images/013.jpg\"  style=\"width: 400px, height: 300px;\"/></center>\n"
   ]
  },
  {
   "cell_type": "markdown",
   "metadata": {},
   "source": [
    "# `map` Method"
   ]
  },
  {
   "cell_type": "markdown",
   "metadata": {},
   "source": [
    "- Iterates over an array and passes each item of the array in its predicate function (The function inside)\n",
    "- Predicate function transforms each item \n",
    "- Returns a new array of transformed elements\n",
    "```\n",
    "const mapped_array = some_array.map(\n",
    "    function(each_item_of_array){\n",
    "        return 'item: ' + each_item_of_array ;\n",
    "        }\n",
    "    );\n",
    "```\n",
    "- Arrow function representation:\n",
    "```\n",
    "const mapped_array = some_array.map(\n",
    "    (each_item_of_array) => return 'item: ' + each_item_of_array;\n",
    "    );\n",
    "```\n",
    "<center><img src=\"images/015.jpg\"  style=\"width: 400px, height: 300px;\"/></center>\n"
   ]
  },
  {
   "cell_type": "markdown",
   "metadata": {},
   "source": [
    "# Template Literals"
   ]
  },
  {
   "cell_type": "markdown",
   "metadata": {},
   "source": [
    "- Like f-string of python\n",
    "- String interpolation\n",
    "<center><img src=\"images/015.02.jpg\"  style=\"width: 400px, height: 300px;\"/></center>\n",
    "<center><img src=\"images/015.03.jpg\"  style=\"width: 400px, height: 300px;\"/></center>\n"
   ]
  }
 ],
 "metadata": {
  "kernelspec": {
   "display_name": "Python 3.8.11 ('env_py')",
   "language": "python",
   "name": "python3"
  },
  "language_info": {
   "name": "python",
   "version": "3.8.11"
  },
  "orig_nbformat": 4,
  "vscode": {
   "interpreter": {
    "hash": "1e949e87132dd83f1a7623eb88007e3532b03b66b77111be347aa4a383049722"
   }
  }
 },
 "nbformat": 4,
 "nbformat_minor": 2
}
