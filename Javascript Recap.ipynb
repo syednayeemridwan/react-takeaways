{
 "cells": [
  {
   "cell_type": "markdown",
   "metadata": {},
   "source": [
    "# Loop"
   ]
  },
  {
   "cell_type": "markdown",
   "metadata": {},
   "source": [
    "```\n",
    "for (var i = 0; i < 5; i++){\n",
    "    console.log(i)\n",
    "}\n",
    "```"
   ]
  },
  {
   "cell_type": "markdown",
   "metadata": {},
   "source": [
    "# Function"
   ]
  },
  {
   "cell_type": "markdown",
   "metadata": {},
   "source": [
    "- Creating a function:\n",
    "```\n",
    "function func_name(){\n",
    "    ...body...\n",
    "}\n",
    "```\n",
    "- Calling a function: `func_name()`"
   ]
  },
  {
   "cell_type": "markdown",
   "metadata": {},
   "source": [
    "# Var vs Let vs Const"
   ]
  },
  {
   "cell_type": "markdown",
   "metadata": {},
   "source": [
    "- declaring variables with `var` will make the variables accessible outside of scope of block\n",
    "    - `var x = 10`\n",
    "- declaring variables with `let` will make the variables only accessible inside of scope of block\n",
    "    - `let x = 10`\n",
    "- declaring constants with `const` will make the variables only accessible inside of scope of block\n",
    "    - `const` is read-only : cannot be re-assigned later\n",
    "    - `const x = 10`"
   ]
  },
  {
   "cell_type": "markdown",
   "metadata": {},
   "source": [
    "# Object"
   ]
  },
  {
   "cell_type": "markdown",
   "metadata": {},
   "source": [
    "- key-value pairs\n",
    "- If there is a function inside the object, that function is method.\n",
    "    - There are 2 ways of defining a method\n",
    "\n",
    "```\n",
    "const obj_name = {\n",
    "    key : 'value',\n",
    "    key2_method : function (){},\n",
    "    key3_method(){} // preferred method way\n",
    "};\n",
    "```\n",
    "\n",
    "- Accessing methods: `obj_name.key3_method()`\n",
    "- Accessing members: `obj_name['key']='new_value'`\n",
    "- Dynamic access example:\n",
    "\n",
    "```\n",
    "const obj_name = {\n",
    "    key : 'value'\n",
    "};\n",
    "\n",
    "const some_var = 'key';\n",
    "obj_name[some_var.value] = 'new_value';\n",
    "\n",
    "```"
   ]
  }
 ],
 "metadata": {
  "kernelspec": {
   "display_name": "Python 3.8.11 ('env_py')",
   "language": "python",
   "name": "python3"
  },
  "language_info": {
   "name": "python",
   "version": "3.8.11"
  },
  "orig_nbformat": 4,
  "vscode": {
   "interpreter": {
    "hash": "1e949e87132dd83f1a7623eb88007e3532b03b66b77111be347aa4a383049722"
   }
  }
 },
 "nbformat": 4,
 "nbformat_minor": 2
}
