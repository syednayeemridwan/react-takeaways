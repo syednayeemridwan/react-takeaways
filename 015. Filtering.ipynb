{
 "cells": [
  {
   "cell_type": "markdown",
   "metadata": {},
   "source": [
    "# Apply filtering on data from State"
   ]
  },
  {
   "cell_type": "markdown",
   "metadata": {},
   "source": [
    "- Inside `mother` component:\n",
    "```\n",
    "const filtered = this.state.selectedType [&& this.state.selectedType.id] ? allData.filter( item => item.type === selectedType.type) : allData;\n",
    "```\n",
    "- `[&& this.state.selectedType.id]` is only for validating extra item along with data to show some other result"
   ]
  },
  {
   "cell_type": "markdown",
   "metadata": {},
   "source": [
    "# Adding Extra item along with all data into the props"
   ]
  },
  {
   "cell_type": "markdown",
   "metadata": {},
   "source": [
    "- Create new array with object de-structuring.\n",
    "- Inside `mother` component:\n",
    "    - `const extended_dataset = [{item: 'extended val', _id=\"\"} , ...getData()];`"
   ]
  },
  {
   "cell_type": "markdown",
   "metadata": {},
   "source": [
    "# Key error for extended data\n"
   ]
  },
  {
   "cell_type": "markdown",
   "metadata": {},
   "source": [
    "- Do not leave any key to be undefined if used extended data\n",
    "    - Make at least a value of empty string: `_id = \"\"` for the extended part"
   ]
  }
 ],
 "metadata": {
  "kernelspec": {
   "display_name": "Python 3.8.11 ('env_py')",
   "language": "python",
   "name": "python3"
  },
  "language_info": {
   "name": "python",
   "version": "3.8.11"
  },
  "orig_nbformat": 4,
  "vscode": {
   "interpreter": {
    "hash": "1e949e87132dd83f1a7623eb88007e3532b03b66b77111be347aa4a383049722"
   }
  }
 },
 "nbformat": 4,
 "nbformat_minor": 2
}
