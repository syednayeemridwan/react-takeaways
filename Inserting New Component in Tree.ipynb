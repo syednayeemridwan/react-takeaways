{
 "cells": [
  {
   "cell_type": "markdown",
   "metadata": {},
   "source": [
    "# Inserting a New Component"
   ]
  },
  {
   "cell_type": "markdown",
   "metadata": {},
   "source": [
    "- We want to create a `NavBar`\n",
    "- Our current design is like this :\n",
    "    <center><img src=\"images/052.01.jpg\"  style=\"width: 400px, height: 300px;\"/></center>\n",
    "- We want our design to be like this :\n",
    "    <center><img src=\"images/052.02.jpg\"  style=\"width: 400px, height: 300px;\"/></center>\n"
   ]
  },
  {
   "cell_type": "markdown",
   "metadata": {},
   "source": [
    "### Step 1 : Register root component inside `index.js`"
   ]
  },
  {
   "cell_type": "markdown",
   "metadata": {},
   "source": [
    "- Our root component is `App`\n",
    "- inside `index.js`:\n",
    "```\n",
    "import App from \"./App\"\n",
    "\n",
    "ReactDOM.render(<App />, document.getElementById(\"root));\n",
    "```"
   ]
  },
  {
   "cell_type": "markdown",
   "metadata": {},
   "source": [
    "### Step 2 : Define new component `navbar`\n"
   ]
  },
  {
   "cell_type": "markdown",
   "metadata": {},
   "source": [
    "- Create a file inside `components` folder : `navbar.jsx`\n",
    "- Inside `navbar.jsx`:\n",
    "```\n",
    "class NavBar extends Component {\n",
    "    render() {\n",
    "        return (\n",
    "            <nav>\n",
    "                ..... /*copy paste bootstrap code*/\n",
    "            </nav>\n",
    "\n",
    "        );\n",
    "    }\n",
    "}\n",
    "export default NavBar;\n",
    "```"
   ]
  },
  {
   "cell_type": "markdown",
   "metadata": {},
   "source": [
    "### Step 3 : Connect mother component `App` with other child components\n"
   ]
  },
  {
   "cell_type": "markdown",
   "metadata": {},
   "source": [
    "- Inside our `App.jsx`:\n",
    "```\n",
    "import NavBar from \"./components/navbar\"\n",
    "import Counters from \"./components/counters\"\n",
    "\n",
    "class App extends Component{\n",
    "    render(){\n",
    "        return (\n",
    "            <React.Fragment>\n",
    "                <NavBar  />\n",
    "                <main className = \"contianer\"> /* Bootstrap template */\n",
    "                    <Counters />\n",
    "                <main>\n",
    "            </React.Fragment>\n",
    "        );\n",
    "    }\n",
    "}\n",
    "```"
   ]
  },
  {
   "cell_type": "markdown",
   "metadata": {},
   "source": [
    "# Passing Data between siblings"
   ]
  },
  {
   "cell_type": "markdown",
   "metadata": {},
   "source": [
    "- We can only pass data between mother and children\n",
    "- There is no way to pass data between siblings\n",
    "- In such a case we shift the `state` from siblings to mother component and get data to childfren components via `props`\n",
    "- Our current design is like this :\n",
    "    <center><img src=\"images/052.03.jpg\"  style=\"width: 400px, height: 300px;\"/></center>\n",
    "- We want our design to be like this :\n",
    "    <center><img src=\"images/052.04.jpg\"  style=\"width: 400px, height: 300px;\"/></center>\n"
   ]
  },
  {
   "cell_type": "markdown",
   "metadata": {},
   "source": [
    "### Step 1 : Move `state` and all handler functions from child component to mother component"
   ]
  },
  {
   "cell_type": "markdown",
   "metadata": {},
   "source": [
    "- `state` and all functions that mutate the `state` should be moved from children to mother component.\n",
    "- We move these codes from `counters` component to `app` component:\n",
    "```\n",
    "state = ...\n",
    "\n",
    "handleIncrement = ..\n",
    "\n",
    "handleReset = ...\n",
    "\n",
    "handleDelete = ...\n",
    "\n",
    "```"
   ]
  },
  {
   "cell_type": "markdown",
   "metadata": {},
   "source": [
    "### Step 2 : Use new handler functions for reference from parent component\n"
   ]
  },
  {
   "cell_type": "markdown",
   "metadata": {},
   "source": [
    "- Inside `app` component"
   ]
  },
  {
   "cell_type": "markdown",
   "metadata": {},
   "source": [
    "```\n",
    "render(){\n",
    "    return (\n",
    "        ....\n",
    "        <Counters\n",
    "            counters = {this.state.whole_obj}\n",
    "            onIncrement = {this.handleIncrement}\n",
    "            onReset = {this.handleReset}\n",
    "            onDelete = {this.handleDelete }\n",
    "        >\n",
    "        </Counters>\n",
    "        ....\n",
    "    );\n",
    "}\n",
    "```"
   ]
  },
  {
   "cell_type": "markdown",
   "metadata": {},
   "source": [
    "### Step 3 : From child components, reference to mother component's handler functions via raising events\n"
   ]
  },
  {
   "cell_type": "markdown",
   "metadata": {},
   "source": [
    "- See all instances of `this.handler_func` and replace them with `this.props.mother_func`\n",
    "- Inside `counters.jsx`:\n",
    "\n",
    "- `{this.handleIncrement}` does not exist.\n",
    "    - The reference   is now at mother component (`App` component's) `{this.props.onIncrement}`\n",
    "- `{this.handleReset}` does not exist.\n",
    "    - The reference  is now at mother component (`App` component's) `{this.props.onReset}`\n",
    "- `{this.handleDelete }` does not exist.\n",
    "    - The reference  is now at mother component (`App` component's) `{this.props.onDelete}`"
   ]
  },
  {
   "cell_type": "markdown",
   "metadata": {},
   "source": [
    "### Step 4 : Replace all references of `this.state` with `this.props`\n"
   ]
  },
  {
   "cell_type": "markdown",
   "metadata": {},
   "source": [
    "- Since there is no `state` in child, `this.state` will be replaced by `this.props`\n",
    "- Inside `counters.jsx`:\n",
    "    - `this.state.counters.map ...` is now `this.props.counters.map ...`\n",
    "- Make sure to always pass `counters` from `state` of mother component as `props`"
   ]
  },
  {
   "cell_type": "markdown",
   "metadata": {},
   "source": [
    "# Adding Functionality to `NavBar`"
   ]
  },
  {
   "cell_type": "markdown",
   "metadata": {},
   "source": [
    "- Inside `app.jsx`:\n",
    "```\n",
    "class App extends Component{\n",
    "    render(){\n",
    "        return (\n",
    "            <React.Fragment>\n",
    "                <NavBar totalCounters={this.state.counters.filter(c=>c.value>0).length} />\n",
    "                <main className = \"contianer\"> /* Bootstrap template */\n",
    "                    <Counters />\n",
    "                <main>\n",
    "            </React.Fragment>\n",
    "        );\n",
    "    }\n",
    "}\n",
    "```\n",
    "- Inside `navbar.jsx`:\n",
    "```\n",
    "class NavBar extends Component {\n",
    "    render() {\n",
    "        return (\n",
    "            <nav>\n",
    "                ..... /*copy paste bootstrap code*/\n",
    "                NavBar Count <span> {this.props.totalCounters} </span>\n",
    "            </nav>\n",
    "\n",
    "        );\n",
    "    }\n",
    "}\n",
    "export default NavBar;\n",
    "```"
   ]
  }
 ],
 "metadata": {
  "kernelspec": {
   "display_name": "Python 3.8.11 ('env_py')",
   "language": "python",
   "name": "python3"
  },
  "language_info": {
   "name": "python",
   "version": "3.8.11"
  },
  "orig_nbformat": 4,
  "vscode": {
   "interpreter": {
    "hash": "1e949e87132dd83f1a7623eb88007e3532b03b66b77111be347aa4a383049722"
   }
  }
 },
 "nbformat": 4,
 "nbformat_minor": 2
}
