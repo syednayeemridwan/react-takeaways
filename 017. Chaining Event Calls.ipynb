{
 "cells": [
  {
   "attachments": {},
   "cell_type": "markdown",
   "metadata": {},
   "source": [
    "# Raising another Event from an event call"
   ]
  },
  {
   "attachments": {},
   "cell_type": "markdown",
   "metadata": {},
   "source": [
    "# Passing Event into another event"
   ]
  },
  {
   "attachments": {},
   "cell_type": "markdown",
   "metadata": {},
   "source": [
    "# Chaining Multiple Events together"
   ]
  },
  {
   "attachments": {},
   "cell_type": "markdown",
   "metadata": {},
   "source": [
    "- Events can also be raised from inside of Functions\n",
    "- Let's say we want an event method to be defined within `Child` component that will call `Mother` eventHandler.\n",
    "- The method of `Child` component will do some sort of manipulation to data and pass the manipulated object to `Mother` component through `Mother` eventHandler\n",
    "- Inside `Child` component:\n",
    "```\n",
    "someEvent = some_var =>{\n",
    "    const result_var = ... // do something with some_var and store result\n",
    "    this.props.motherEvent(result_var);\n",
    "}\n",
    "```\n",
    "- Inside `Mother` component:\n",
    "```\n",
    "motherEvent = some_var =>{\n",
    "    this.setState({ some_member : some_var});\n",
    "}\n",
    "```"
   ]
  },
  {
   "attachments": {},
   "cell_type": "markdown",
   "metadata": {},
   "source": [
    "# Things to note"
   ]
  },
  {
   "attachments": {},
   "cell_type": "markdown",
   "metadata": {},
   "source": [
    "- You are now adding a method for chaining event calls \n",
    "- Since you are using methods, the component where you will put this must be a `class` based component"
   ]
  }
 ],
 "metadata": {
  "kernelspec": {
   "display_name": "Python 3.8.11 ('env_py')",
   "language": "python",
   "name": "python3"
  },
  "language_info": {
   "name": "python",
   "version": "3.8.11"
  },
  "orig_nbformat": 4,
  "vscode": {
   "interpreter": {
    "hash": "1e949e87132dd83f1a7623eb88007e3532b03b66b77111be347aa4a383049722"
   }
  }
 },
 "nbformat": 4,
 "nbformat_minor": 2
}
