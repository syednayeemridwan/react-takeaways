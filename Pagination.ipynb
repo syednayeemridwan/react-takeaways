{
 "cells": [
  {
   "cell_type": "markdown",
   "metadata": {},
   "source": [
    "# We will create a pagination component"
   ]
  },
  {
   "cell_type": "markdown",
   "metadata": {},
   "source": [
    "### Install Necessary Packages"
   ]
  },
  {
   "cell_type": "markdown",
   "metadata": {},
   "source": [
    "`npm i lodash@4.17.10`"
   ]
  },
  {
   "cell_type": "markdown",
   "metadata": {},
   "source": [
    "### Pagination as the child component"
   ]
  },
  {
   "cell_type": "markdown",
   "metadata": {},
   "source": [
    "- Since this component will be independent and can be added by any other component. We put it in `common` folder\n",
    "- We will create this component as a stateless component. We will change it into `class`component if later we see that `state` is required\n",
    "- The component will be written inside `pagination.jsx`\n",
    "\n",
    "```\n",
    "import _ from 'lodash';  // install lodash with 'npm i lodash@4.17.10' command\n",
    "\n",
    "const Pagination = (props) =>{\n",
    "\n",
    "    const {itemsCount, pageSize, currentPage} = props;\n",
    "    const pagesCount = Math.ceil(itemsCount / pageSize);\n",
    "    const pages = _.range(1, pagesCount + 1);\n",
    "    }\n",
    "\n",
    "return (\n",
    "    <nav>\n",
    "        <ul className = \"pagination\">\n",
    "            // ....Your bootstrap template for pagination.....\n",
    "            {pages.map(page => (\n",
    "                <li key={page} \n",
    "                    className = { page === currentPage ? \"page-item active\":\"page-item\"}> \n",
    "                    <a className = \"page-link\"\n",
    "                        onClick = {() => props.onPageChange(page)}\n",
    "                    > {page} </a>\n",
    "                </li>\n",
    "            ))}\n",
    "        </ul>\n",
    "    </nav>\n",
    ");\n",
    "}\n",
    "\n",
    "export default Pagination;\n",
    "\n",
    "```"
   ]
  },
  {
   "cell_type": "markdown",
   "metadata": {},
   "source": [
    "### Using Pagination Component inside other `Mother` component"
   ]
  },
  {
   "cell_type": "markdown",
   "metadata": {},
   "source": [
    "- Let's say we are using the pagination component inside component `Mother`\n",
    "- Our code:\n",
    "```\n",
    "import Pagination from './common/pagination'\n",
    "import _ from 'lodash';  // install lodash with 'npm i lodash@4.17.10' command\n",
    "\n",
    "state = {\n",
    "    objs : getThingsFromDatabase(),\n",
    "    currentPage : 1,\n",
    "    pageSize : 4;\n",
    "}\n",
    "\n",
    "....\n",
    "....\n",
    "\n",
    "handlePageChange = (page) =>{\n",
    "    // console.log(page);\n",
    "    this.setState({currentPage : page})\n",
    "}\n",
    "\n",
    "paginate = (items, pageNumber, pageSize) => {\n",
    "    const startIndex = (pageNumber - 1) * pageSize;\n",
    "    return _(items)\n",
    "            .slice(startIndex)\n",
    "            .take(pageSize)\n",
    "            .value();\n",
    "}\n",
    "\n",
    "const current_objs = paginate(this.state.objs, this.state.currentPage, this.state.pageSize)\n",
    "\n",
    "render(){\n",
    "    return (\n",
    "        <div>\n",
    "            .....\n",
    "            {current_objs.map(obj => (\n",
    "                <tr key={obj.id}>\n",
    "                    <td> {obj.member1} </td>\n",
    "                    <td> {obj.member2} </td>\n",
    "                    <td> {obj.member3} </td>\n",
    "                </tr>\n",
    "            ))}\n",
    "            .....\n",
    "            <Pagination\n",
    "                itemsCount = {this.state.objs.length}\n",
    "                pageSize = {4} /* You can store this in state and use :'this.state.pageSize'*/\n",
    "                currentPage = {this.state.currentPage}\n",
    "                onPageChange = {this.handlePageChange}\n",
    "            />\n",
    "        </div>\n",
    "    );\n",
    "}\n",
    "```"
   ]
  }
 ],
 "metadata": {
  "kernelspec": {
   "display_name": "Python 3.8.11 ('env_py')",
   "language": "python",
   "name": "python3"
  },
  "language_info": {
   "name": "python",
   "version": "3.8.11"
  },
  "orig_nbformat": 4,
  "vscode": {
   "interpreter": {
    "hash": "1e949e87132dd83f1a7623eb88007e3532b03b66b77111be347aa4a383049722"
   }
  }
 },
 "nbformat": 4,
 "nbformat_minor": 2
}
