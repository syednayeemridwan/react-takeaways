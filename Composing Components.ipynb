{
 "cells": [
  {
   "cell_type": "markdown",
   "metadata": {},
   "source": [
    "### Step 1 : Create New Component and Attach it with `index.js`"
   ]
  },
  {
   "cell_type": "markdown",
   "metadata": {},
   "source": [
    "- `src` > `components` > `counters.jsx`\n",
    "- This component will help render a list of `counter`s (`Counters` tag holding `counter` tags)\n",
    "- Update the `index.js` to render the `Counters` component\n",
    "```\n",
    "import Counters from './components/counters';\n",
    "\n",
    "ReactDOM.render( <Counters/>, document.getElementById(\"root\"));\n",
    "\n",
    "```\n"
   ]
  },
  {
   "cell_type": "markdown",
   "metadata": {},
   "source": [
    "### Step 2 : Define New Component and Attach little components inside it's `render()`\n"
   ]
  },
  {
   "cell_type": "markdown",
   "metadata": {},
   "source": [
    "1. Import the little component\n",
    "2. Render the little component\n",
    "- We get all individual elements\n",
    "```\n",
    "import Counter from \"./counter\"\n",
    "\n",
    "class Counter extends Component{\n",
    "    state = {};\n",
    "\n",
    "    render(){\n",
    "        return (\n",
    "            <React.Fragment>\n",
    "                <Counter/>\n",
    "                <Counter/>\n",
    "                <Counter/>\n",
    "                <Counter/>\n",
    "            </React.Fragment>\n",
    "        )\n",
    "    }\n",
    "\n",
    "}\n",
    "```"
   ]
  },
  {
   "cell_type": "markdown",
   "metadata": {},
   "source": [
    "### Step 3 : Move repeatitions of little components from it's `render()` to `state` as a `member array` and fetch them from `state` with unique `key`\n"
   ]
  },
  {
   "cell_type": "markdown",
   "metadata": {},
   "source": [
    "- This way, We will get each individual elements with their own states\n",
    "```\n",
    "import Counter from \"./counter\"\n",
    "\n",
    "class Counter extends Component{\n",
    "    state = { \n",
    "        counters : [\n",
    "            {id : 1, value : 1},\n",
    "            {id : 2, value : 1},\n",
    "            {id : 3, value : 1},\n",
    "            {id : 4, value : 1}\n",
    "        ]\n",
    "    };\n",
    "\n",
    "    render(){\n",
    "        return (\n",
    "            <React.Fragment>\n",
    "                {this.state.counters.map(element => <Counter key = {element.id} />)}\n",
    "            </React.Fragment>\n",
    "        );\n",
    "    }\n",
    "\n",
    "}\n",
    "```"
   ]
  },
  {
   "cell_type": "markdown",
   "metadata": {},
   "source": [
    "# Pass Attribute Data of Tags in components"
   ]
  },
  {
   "cell_type": "markdown",
   "metadata": {},
   "source": [
    "- Normally data is passed from parent tag's` Child component attribute` to child tag / component\n",
    "- Use attributes to pass data from parent tag\n",
    "- Use properties to access data into state in child tag or component\n",
    "- Inside `Counters` component:\n",
    "```\n",
    "state = { \n",
    "        counters : [\n",
    "            {id : 1, value : 1},\n",
    "            {id : 2, value : 1},\n",
    "            {id : 3, value : 1},\n",
    "            {id : 4, value : 1}\n",
    "        ]\n",
    "    };\n",
    "\n",
    "render(){\n",
    "        return (\n",
    "            <React.Fragment>\n",
    "                {this.state.counters.map(element => \n",
    "                    <Counter key = {element.id}  \n",
    "                    value_pass = {element.value} \n",
    "                />)}\n",
    "            </React.Fragment>\n",
    "        );\n",
    "    }\n",
    "\n",
    "```\n",
    "\n",
    "- Inside `Counter` component access all data from parent with `this.props.member`:\n",
    "```\n",
    "state = {\n",
    "    count : this.props.value_pass;\n",
    "}\n",
    "```"
   ]
  },
  {
   "cell_type": "markdown",
   "metadata": {},
   "source": [
    "# Pass Content Data of Tags in components\n"
   ]
  },
  {
   "cell_type": "markdown",
   "metadata": {},
   "source": [
    "- Inside `Counters` component:\n",
    "```\n",
    "state = { \n",
    "        counters : [\n",
    "            {id : 1, value : 1},\n",
    "            {id : 2, value : 2},\n",
    "            {id : 3, value : 3},\n",
    "            {id : 4, value : 4}\n",
    "        ]\n",
    "    };\n",
    "\n",
    "render(){\n",
    "    return (\n",
    "        <React.Fragment>\n",
    "            {this.state.counters.map(element => \n",
    "                <Counter key = {element.id}  \n",
    "                value_pass = {element.value} >\n",
    "                    <grandchild_tag> Passing content with id {element.id}  </grandchild_tag>\n",
    "                </Counter>\n",
    "            )}\n",
    "        </React.Fragment>\n",
    "        );\n",
    "    }\n",
    "\n",
    "```\n",
    "\n",
    "- Inside `Counter` component's `render()` function :\n",
    "```\n",
    "render(){\n",
    "\n",
    "    return (<div>\n",
    "      {this.props.children}   /* The grandchild_tag of parent is rendered as children */\n",
    "    </div>)\n",
    "}\n",
    "```"
   ]
  },
  {
   "cell_type": "markdown",
   "metadata": {},
   "source": [
    "# How do you know what is passed from parent to children?"
   ]
  },
  {
   "cell_type": "markdown",
   "metadata": {},
   "source": [
    "- Use `Console.log(this.props)` in child components `render()` method\n",
    "- You will everything passed from parent to child in the console.\n",
    "\n",
    "<center><img src=\"images/045.01.jpg\"  style=\"width: 400px, height: 300px;\"/></center>\n",
    "<center><img src=\"images/045.02.jpg\"  style=\"width: 400px, height: 300px;\"/></center>\n"
   ]
  },
  {
   "cell_type": "markdown",
   "metadata": {},
   "source": [
    "# Modifying Parent component state from children component"
   ]
  },
  {
   "cell_type": "markdown",
   "metadata": {},
   "source": [
    "- The component that owns a piece of `state` should be responsible for modifying it\n",
    "- But `state` is private to a component. So how do we call it from another component?\n",
    "    - Solution : \n",
    "        1. Raise event from `Child` component\n",
    "        2. Handle event in `Mother` component\n"
   ]
  },
  {
   "cell_type": "markdown",
   "metadata": {},
   "source": [
    "### Step 1"
   ]
  },
  {
   "cell_type": "markdown",
   "metadata": {},
   "source": [
    "- Inside Mother component create a function to deal with it's own state\n",
    "- pass the reference to the function in the child component as a `props`\n",
    "- Inside `Counters` component:\n",
    "```\n",
    "handleCallFromChild = some_param => {\n",
    "    const new_counter = this.state.counters.filter(c => c.id !== some_param);\n",
    "    this.setState({ counters : new_counter});\n",
    "}\n",
    "\n",
    "\n",
    "render(){\n",
    "    return ( \n",
    "        <div>\n",
    "            {this.state.counters.map( element = >(\n",
    "                <Counter key = {element.id} \n",
    "                onCallFromChild = {this.handleCallFromChild}\n",
    "                value = element.value>\n",
    "                    ....\n",
    "                </Counter>\n",
    "            ))}\n",
    "        </div>\n",
    "\n",
    "    );\n",
    "}\n",
    "```"
   ]
  },
  {
   "cell_type": "markdown",
   "metadata": {},
   "source": [
    "### Step 2"
   ]
  },
  {
   "cell_type": "markdown",
   "metadata": {},
   "source": [
    "- Inside child component, access the passed function from `props` with : \n",
    "`{this.props.onCallFromChild}`\n",
    "- Inside `Counter` component:\n",
    "\n",
    "```\n",
    "render(){\n",
    "    return (\n",
    "        <div>\n",
    "            ...\n",
    "            <button onClick={() => this.props.onCallFromChild(this.props.id)} className = \"btn btn-danger\"> \n",
    "                Delete\n",
    "            </button>\n",
    "            ...\n",
    "        </div>\n",
    "    );\n",
    "}\n",
    "```"
   ]
  },
  {
   "cell_type": "markdown",
   "metadata": {},
   "source": [
    "# Carrying the whole data throughout the descendent components"
   ]
  },
  {
   "cell_type": "markdown",
   "metadata": {},
   "source": [
    "- Pass the whole object inside `props` in `render()` of mother component `Components`\n",
    "\n",
    "```\n",
    "render(){\n",
    "    return (\n",
    "        <div>\n",
    "            {this.state.counters.map( element =>\n",
    "            <Counter key = {element.id}\n",
    "            counter_obj={element}>\n",
    "            ....\n",
    "            </Counter>\n",
    "        </div>)}\n",
    "    );\n",
    "}\n",
    "```\n",
    "\n",
    "- Access data in child component `Component`:\n",
    "```\n",
    "....\n",
    "state = {\n",
    "    value : this.props.counter_obj.value;\n",
    "}\n",
    "\n",
    "....\n",
    "```\n"
   ]
  },
  {
   "cell_type": "markdown",
   "metadata": {},
   "source": [
    "# Making Single Source Of Truth : Controlled Component"
   ]
  },
  {
   "cell_type": "markdown",
   "metadata": {},
   "source": [
    "- Controlled Component \n",
    "    - Does not have local `state`\n",
    "    - Receives all data from Mother component\n",
    "    - Raises events if data is needed to be changed\n",
    "- Resolve for single source of truth\n",
    "- Remove all local `state`s\n",
    "- Only keep Mother component's `state`\n",
    "- Deliver data to children component's via `prop`\n",
    "- If there are sibling components, put the `state` into their Mother component\n",
    "    - The mother component will deliver data to siblings via `prop`\n",
    "\n"
   ]
  },
  {
   "cell_type": "markdown",
   "metadata": {},
   "source": [
    "# Re-designing with Controlled Component"
   ]
  },
  {
   "cell_type": "markdown",
   "metadata": {},
   "source": [
    "### Step 1 : Delete all local `state` from children component"
   ]
  },
  {
   "cell_type": "markdown",
   "metadata": {},
   "source": [
    "- Currently from our `Counter`  component, we remove these lines:\n",
    "```\n",
    "state = {\n",
    "    value : this.props.counter.value\n",
    "}\n",
    "```\n",
    "\n"
   ]
  },
  {
   "cell_type": "markdown",
   "metadata": {},
   "source": [
    "### Step 2 : Find all handler functions and remove them\n"
   ]
  },
  {
   "cell_type": "markdown",
   "metadata": {},
   "source": [
    "- Since we do not have a `state` anymore, we delete all appearance related to `state` in the component\n",
    "- Currently from our `Counter`  component, we remove this function:\n",
    "```\n",
    "handleIncrement = () => {\n",
    "    this.setState({value : this.state.value + 1})\n",
    "}\n",
    "```"
   ]
  },
  {
   "cell_type": "markdown",
   "metadata": {},
   "source": [
    "### Step 3 : Find all references of handler functions and replace them with `props` event reference\n"
   ]
  },
  {
   "cell_type": "markdown",
   "metadata": {},
   "source": [
    "- Since no handler functions exist, the only way to execute is to access the functions with `props` from mother component : `() => this.props.eventName(this.props.obj)`\n",
    "- We always pass a function with parameter. The parameter is the object data from mother component that we are trying to work with.\n",
    "- Currently from our `Counter`  component, we modify these lines:\n",
    "```\n",
    "<button\n",
    "onClick = {this.handleIncrement} /* this is the target line */\n",
    ">\n",
    "    Increment\n",
    "</button>\n",
    "```\n",
    "- Our modified version:\n",
    "```\n",
    "<button\n",
    "onClick = {() => this.props.onIncrement(this.props.counter)} /* this is the target line */\n",
    ">\n",
    "    Increment\n",
    "</button>\n",
    "```"
   ]
  },
  {
   "cell_type": "markdown",
   "metadata": {},
   "source": [
    "### Step 4 : Find all references of `this.state` and replace them with `this.props.obj`\n"
   ]
  },
  {
   "cell_type": "markdown",
   "metadata": {},
   "source": [
    "- Since there is no `state`\n",
    "- All the data is inside `props` and passed as obj\n",
    "- We currently have : `this.state.value === 0`\n",
    "    - We modify it by : `this.props.counter.value === 0`"
   ]
  },
  {
   "cell_type": "markdown",
   "metadata": {},
   "source": [
    "### Step 5 : Go to mother component and set up the event handler function\n"
   ]
  },
  {
   "cell_type": "markdown",
   "metadata": {},
   "source": [
    "- Since we removed event handler from child component, we must have the event handler function inside mother component\n",
    "- Mother component pass this event handler function to child component via props\n",
    "- Inside `Counters` component we write:\n",
    "\n",
    "```\n",
    "\n",
    "handleIncrement = (counter_param) = {\n",
    "const counters = [...this.state.counters];   /* cloning the array before modifying */\n",
    "const index = counters.indexOf(counter_param);\n",
    "counters[index] = {...counter_param};\n",
    "counters[index].value++;\n",
    "this.setState({counters : counters})\n",
    "}\n",
    "\n",
    "\n",
    "render(){\n",
    "    ....\n",
    "    <Counter>\n",
    "        ...\n",
    "        onIncrement = {this.handleIncrement}\n",
    "    </Counter>\n",
    "}\n",
    "\n",
    "\n",
    "```\n"
   ]
  }
 ],
 "metadata": {
  "kernelspec": {
   "display_name": "Python 3.8.11 ('env_py')",
   "language": "python",
   "name": "python3"
  },
  "language_info": {
   "name": "python",
   "version": "3.8.11"
  },
  "orig_nbformat": 4,
  "vscode": {
   "interpreter": {
    "hash": "1e949e87132dd83f1a7623eb88007e3532b03b66b77111be347aa4a383049722"
   }
  }
 },
 "nbformat": 4,
 "nbformat_minor": 2
}
