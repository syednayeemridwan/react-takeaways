{
 "cells": [
  {
   "cell_type": "markdown",
   "metadata": {},
   "source": [
    "# Find Icons"
   ]
  },
  {
   "cell_type": "markdown",
   "metadata": {},
   "source": [
    "- Search for font awesome 4.7 in google\n",
    "- Look for icons in there\n",
    "- Search for your icons \n",
    "- Create a folder named `common` inside `project folder` > `src` > `components` > `common`\n",
    "- Create a component for special icons here: `icon_component.jsx`\n"
   ]
  },
  {
   "cell_type": "markdown",
   "metadata": {},
   "source": [
    "### 1. Designing the icon component"
   ]
  },
  {
   "cell_type": "markdown",
   "metadata": {},
   "source": [
    "- inside `icon_component.jsx`:\n",
    "```\n",
    "class IconComponent extends Component{\n",
    "    render(){\n",
    "        let icon_css = \"fa fa-heart\";   /* CSS of icon in font awesome */ \n",
    "        if (!this.props.liked) icon_css += \"-o\"\n",
    "        return (\n",
    "            <i\n",
    "                onClick = {this.props.itemClick}\n",
    "                style = {{ cursor : \"pointer\" }} /* Cursor becomes a hand symbol on icon */\n",
    "                className = {icon_css}\n",
    "                aria-hidden = \"true\"\n",
    "            >\n",
    "            </i>\n",
    "        );\n",
    "    }\n",
    "}\n",
    "```"
   ]
  },
  {
   "cell_type": "markdown",
   "metadata": {},
   "source": [
    "### 2. Designing the icon holder component\n"
   ]
  },
  {
   "cell_type": "markdown",
   "metadata": {},
   "source": [
    "- The icon holder component is the mother component that holds the `icon_component` component\n",
    "- Lets say the mother component is `mother_component.jsx`. Inside it:\n",
    "```\n",
    "\n",
    "iconHandler = obj => {\n",
    "    const new_objs = [... this.state.objs];\n",
    "    const index = new_objs.indexOf(obj);\n",
    "    new_objs[index] = {...new_objs[index]};\n",
    "    new_objs[index].icon_state = !objs[index].icon_state; /*Toggle the boolean state of the icon*/\n",
    "    this.setState({objs : new_objs});\n",
    "    // console.log(\"Testing...\" , obj)\n",
    "}\n",
    "\n",
    "....\n",
    "return(\n",
    "<div> {this.state.objs.map( obj => {\n",
    "    <IconComponent\n",
    "        icon_state= {obj.icon_state}\n",
    "        onClick = {() => this.iconHandler(obj)}\n",
    "    >\n",
    "    </IconComponent>\n",
    "    ...\n",
    "</div>\n",
    ");\n",
    "```"
   ]
  },
  {
   "cell_type": "markdown",
   "metadata": {},
   "source": [
    "### 3. Turn icon component into stateless component\n"
   ]
  },
  {
   "cell_type": "markdown",
   "metadata": {},
   "source": [
    "- Since there is no `state` we can make this into stateless component\n",
    "- sample code:\n",
    "```\n",
    "const IconComponent = () => {\n",
    "        let icon_css = \"fa fa-heart\";   /* CSS of icon in font awesome */ \n",
    "        if (!this.props.liked) icon_css += \"-o\"\n",
    "        return (\n",
    "            <i\n",
    "                onClick = {this.props.itemClick}\n",
    "                style = {{ cursor : \"pointer\" }} /* Cursor becomes a hand symbol on icon */\n",
    "                className = {icon_css}\n",
    "                aria-hidden = \"true\"\n",
    "            >\n",
    "            </i>\n",
    "        );\n",
    "    }\n",
    "\n",
    "export default IconComponent;\n",
    "```"
   ]
  }
 ],
 "metadata": {
  "kernelspec": {
   "display_name": "Python 3.8.11 ('env_py')",
   "language": "python",
   "name": "python3"
  },
  "language_info": {
   "name": "python",
   "version": "3.8.11"
  },
  "orig_nbformat": 4,
  "vscode": {
   "interpreter": {
    "hash": "1e949e87132dd83f1a7623eb88007e3532b03b66b77111be347aa4a383049722"
   }
  }
 },
 "nbformat": 4,
 "nbformat_minor": 2
}
