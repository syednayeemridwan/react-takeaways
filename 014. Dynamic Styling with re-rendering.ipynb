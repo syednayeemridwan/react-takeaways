{
 "cells": [
  {
   "cell_type": "markdown",
   "metadata": {},
   "source": [
    "# Styling on Re-rendering"
   ]
  },
  {
   "cell_type": "markdown",
   "metadata": {},
   "source": [
    "- We have `mother` component\n",
    "- Mother component holds `child` component\n",
    "- Data is passed from `mother` component to `child` component via `props`\n",
    "- Selection `functionHandler` also passed from `mother` component to `child` component via `props`\n",
    "- The implementation details of  `functionHandler` is in `mother` component\n",
    "- When selection happens inside the `child` component, we should update the information of which `child` component is selected inside the `mother` component's `state`:\n",
    "    ```\n",
    "    selectFunctionHandler = item => {\n",
    "        this.setState({selectedItem : item});\n",
    "    }\n",
    "    ```\n",
    "- Due to this , we know when we update the state, the `mother` component along with all the `child` components are re-rendered\n",
    "- Now we will pass this `selectedItem` information from `mother` component to `child` component via `props`\n",
    "- Inside `mother` component:\n",
    "    - `<Child selectedFromChild= {this.state.SelectedItem} />`\n",
    "- Inside `child` component:\n",
    "    - `.map(... <li className = {item === this.props.selectedFromChild ? \"bootstrap style\" : \"some other style\"}>`\n"
   ]
  }
 ],
 "metadata": {
  "kernelspec": {
   "display_name": "Python 3.8.11 ('env_py')",
   "language": "python",
   "name": "python3"
  },
  "language_info": {
   "name": "python",
   "version": "3.8.11 (default, Aug  6 2021, 09:57:55) [MSC v.1916 64 bit (AMD64)]"
  },
  "orig_nbformat": 4,
  "vscode": {
   "interpreter": {
    "hash": "1e949e87132dd83f1a7623eb88007e3532b03b66b77111be347aa4a383049722"
   }
  }
 },
 "nbformat": 4,
 "nbformat_minor": 2
}
