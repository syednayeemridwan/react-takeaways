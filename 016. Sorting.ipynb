{
 "cells": [
  {
   "attachments": {},
   "cell_type": "markdown",
   "metadata": {},
   "source": [
    "# Planning the Sorting"
   ]
  },
  {
   "attachments": {},
   "cell_type": "markdown",
   "metadata": {},
   "source": [
    "1. There will be a page\n",
    "2. There will be a component in that page (let's say table header `<th>`)\n",
    "3. When we click on that component, things will re-render\n",
    "    - Clicking will invoke an event\n",
    "    - Some eventhandling function will be called for re-rendering\n",
    "    - re-render = calling the `this.setState({})` method inside eventhandling function \n",
    "4. We will display specific data to the user\n",
    "    - Some variables that use `.map()` , `.reduce()`, or `.filter()` to sort out what data to display from all data that is passed through the `props`\n"
   ]
  },
  {
   "attachments": {},
   "cell_type": "markdown",
   "metadata": {},
   "source": [
    "# Inside Mother component"
   ]
  },
  {
   "attachments": {},
   "cell_type": "markdown",
   "metadata": {},
   "source": [
    "```\n",
    "import _ from 'lodash';\n",
    "....\n",
    "\n",
    "\n",
    "state = {\n",
    "    sortColumn : {path:\"title\", order : \"asc\"}\n",
    "}\n",
    "\n",
    "....\n",
    "\n",
    "....\n",
    "handleSort = some_heading => {\n",
    "    const sortColumn = {...this.state.sortColumn};\n",
    "    if (sortColumn.path === some_heading)\n",
    "        sortColumn.order = (sortColumn.order === \"asc\") ? \"desc\" : \"asc\";\n",
    "    else\n",
    "        sortColumn.path = some_heading; \n",
    "        sortColumn.order = \"asc\";\n",
    "    this.setState({sortColumn : sortColumn);\n",
    "}\n",
    "\n",
    "render(){\n",
    "....\n",
    "const sorted = _.orderBy(allData, [this.state.sortColumn.path],[this.state.sortColumn.order])\n",
    "\n",
    "```"
   ]
  }
 ],
 "metadata": {
  "kernelspec": {
   "display_name": "Python 3.8.11 ('env_py')",
   "language": "python",
   "name": "python3"
  },
  "language_info": {
   "name": "python",
   "version": "3.8.11 (default, Aug  6 2021, 09:57:55) [MSC v.1916 64 bit (AMD64)]"
  },
  "orig_nbformat": 4,
  "vscode": {
   "interpreter": {
    "hash": "1e949e87132dd83f1a7623eb88007e3532b03b66b77111be347aa4a383049722"
   }
  }
 },
 "nbformat": 4,
 "nbformat_minor": 2
}
